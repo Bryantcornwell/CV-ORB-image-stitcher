{
 "cells": [
  {
   "cell_type": "code",
   "execution_count": 10,
   "metadata": {},
   "outputs": [],
   "source": [
    "import cv2\n",
    "import numpy as np"
   ]
  },
  {
   "cell_type": "code",
   "execution_count": 11,
   "metadata": {},
   "outputs": [],
   "source": [
    "TRANSFORMATIONS = [\n",
    "\n",
    "    # Translation\n",
    "    np.array([\n",
    "        [1, 0, -100],\n",
    "        [0, 1, -200],\n",
    "        [0, 0, 1]\n",
    "    ]),\n",
    "\n",
    "    # Euclidean\n",
    "    np.array([\n",
    "        [0.9, -0.5, 0],\n",
    "        [0.5, 0.9, 0],\n",
    "        [0, 0, 1]\n",
    "    ]),\n",
    "\n",
    "    # Affine\n",
    "    np.array([\n",
    "        [1, 2, -800],\n",
    "        [0, 2, -400],\n",
    "        [0, 0, 1]\n",
    "    ]),\n",
    "\n",
    "    # Projection\n",
    "    np.array([\n",
    "        [1, 0, 100],\n",
    "        [0, 1, 200],\n",
    "        [0, 0, 1]\n",
    "    ])\n",
    "\n",
    "]"
   ]
  },
  {
   "cell_type": "code",
   "execution_count": 12,
   "metadata": {},
   "outputs": [],
   "source": [
    "def Apply_Transformation(img, transform_idx):\n",
    "\n",
    "    # Get transformation to apply\n",
    "    # Take the inverse to perform inverse warping\n",
    "    transform_array = TRANSFORMATIONS[transform_idx]\n",
    "\n",
    "    # Initialize new image\n",
    "    new_img = np.zeros(shape=img.shape)\n",
    "\n",
    "    coor_pairs = []\n",
    "\n",
    "    counter = 101\n",
    "\n",
    "    # Loop through coordinates and\n",
    "    # apply inverse transformation\n",
    "    for r in range(img.shape[0]):\n",
    "        for c in range(img.shape[1]):\n",
    "            current_coor = np.array([c, r, 1])\n",
    "            new_coor = np.matmul(transform_array, current_coor)\n",
    "            new_x = new_coor[0] / new_coor[2]\n",
    "            new_y = new_coor[1] / new_coor[2]\n",
    "            # Update new image if old coordinate\n",
    "            # is within the image coordinate bounds\n",
    "            if new_y < img.shape[0] and \\\n",
    "                new_x < img.shape[1] and \\\n",
    "                new_y > 0 and \\\n",
    "                new_x > 0:\n",
    "\n",
    "                    if len(coor_pairs) > 0:\n",
    "                        counter += 1\n",
    "\n",
    "                    if new_y % 1 == 0 and new_x % 1 == 0 and img[int(new_y), int(new_x), 0] == 255 and len(coor_pairs) < transform_idx + 2 and counter > 100:\n",
    "                        coor_pairs += [[(new_x, new_y), (c, r)]]\n",
    "                        counter = 0\n",
    "\n",
    "                    new_img[r, c] = img[int(new_y), int(new_x)]\n",
    "\n",
    "    return new_img, coor_pairs"
   ]
  },
  {
   "cell_type": "code",
   "execution_count": 13,
   "metadata": {},
   "outputs": [
    {
     "data": {
      "text/plain": [
       "True"
      ]
     },
     "execution_count": 13,
     "metadata": {},
     "output_type": "execute_result"
    }
   ],
   "source": [
    "simple_image = np.zeros(shape=(1024,1024,3))\n",
    "\n",
    "simple_image[300:500, 300] = 255\n",
    "simple_image[300:500, 500] = 255\n",
    "simple_image[300, 300:500] = 255\n",
    "simple_image[500, 300:500] = 255\n",
    "\n",
    "cv2.imwrite('part2-images/Simple.jpg', simple_image)"
   ]
  },
  {
   "cell_type": "code",
   "execution_count": 14,
   "metadata": {},
   "outputs": [
    {
     "data": {
      "text/plain": [
       "[[(300.0, 300.0), (400, 500)], [(401.0, 300.0), (501, 500)]]"
      ]
     },
     "execution_count": 14,
     "metadata": {},
     "output_type": "execute_result"
    }
   ],
   "source": [
    "translated_img, translated_coors = Apply_Transformation(simple_image, 0)\n",
    "cv2.imwrite('part2-images/Simple_Translation.jpg', translated_img)\n",
    "translated_coors"
   ]
  },
  {
   "cell_type": "code",
   "execution_count": 15,
   "metadata": {},
   "outputs": [
    {
     "data": {
      "text/plain": [
       "[[(487.0, 300.0), (555, 25)],\n",
       " [(500.0, 319.0), (575, 35)],\n",
       " [(434.0, 300.0), (510, 50)]]"
      ]
     },
     "execution_count": 15,
     "metadata": {},
     "output_type": "execute_result"
    }
   ],
   "source": [
    "euclidean_img, euclidean_coors = Apply_Transformation(simple_image, 1)\n",
    "cv2.imwrite('part2-images/Simple_Euclidean.jpg', euclidean_img)\n",
    "euclidean_coors"
   ]
  },
  {
   "cell_type": "code",
   "execution_count": 16,
   "metadata": {},
   "outputs": [
    {
     "data": {
      "text/plain": [
       "[[(300.0, 300.0), (400, 350)],\n",
       " [(401.0, 300.0), (501, 350)],\n",
       " [(300.0, 302.0), (398, 351)],\n",
       " [(500.0, 302.0), (598, 351)]]"
      ]
     },
     "execution_count": 16,
     "metadata": {},
     "output_type": "execute_result"
    }
   ],
   "source": [
    "affine_img, affine_coors = Apply_Transformation(simple_image, 2)\n",
    "cv2.imwrite('part2-images/Simple_Affine.jpg', affine_img)\n",
    "affine_coors"
   ]
  },
  {
   "cell_type": "code",
   "execution_count": null,
   "metadata": {},
   "outputs": [],
   "source": []
  }
 ],
 "metadata": {
  "interpreter": {
   "hash": "80f562c4332a1b652b43abc3f6dc8822e0539e2ff14e2e1d70aad5b28f23c7c5"
  },
  "kernelspec": {
   "display_name": "Python 3.7.6 ('base')",
   "language": "python",
   "name": "python3"
  },
  "language_info": {
   "codemirror_mode": {
    "name": "ipython",
    "version": 3
   },
   "file_extension": ".py",
   "mimetype": "text/x-python",
   "name": "python",
   "nbconvert_exporter": "python",
   "pygments_lexer": "ipython3",
   "version": "3.7.6"
  },
  "orig_nbformat": 4
 },
 "nbformat": 4,
 "nbformat_minor": 2
}
