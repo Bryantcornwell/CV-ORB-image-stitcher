{
 "cells": [
  {
   "cell_type": "code",
   "execution_count": 156,
   "metadata": {},
   "outputs": [],
   "source": [
    "import cv2\n",
    "import numpy as np"
   ]
  },
  {
   "cell_type": "code",
   "execution_count": 157,
   "metadata": {},
   "outputs": [],
   "source": [
    "TRANSFORMATIONS = [\n",
    "\n",
    "    # Translation\n",
    "    np.array([\n",
    "        [1, 0, -100],\n",
    "        [0, 1, -200],\n",
    "        [0, 0, 1]\n",
    "    ]),\n",
    "\n",
    "    # Euclidean\n",
    "    np.array([\n",
    "        [0.9, -0.5, 0],\n",
    "        [0.5, 0.9, 0],\n",
    "        [0, 0, 1]\n",
    "    ]),\n",
    "\n",
    "    # Affine\n",
    "    np.array([\n",
    "        [1, 2, -800],\n",
    "        [0, 2, -400],\n",
    "        [0, 0, 1]\n",
    "    ]),\n",
    "\n",
    "    # Projection\n",
    "    np.array([[ 1.80258009e+00,  1.55276411e+00, -7.76398173e+02],\n",
    "       [-8.09994414e-01,  2.13295256e+00, -1.07909987e+02],\n",
    "       [ 5.79313440e-04,  7.57830547e-04,  1.00000000e+00]]),\n",
    "\n",
    "    np.array([[ 1.31854864e+00,  1.17578080e+00, -5.57550781e+02],\n",
    "       [-6.39782717e-01,  1.61752921e+00, -6.55838015e+01],\n",
    "       [ 3.56975101e-04,  5.76250832e-04,  8.09430646e-01]])\n",
    "\n",
    "]"
   ]
  },
  {
   "cell_type": "code",
   "execution_count": 158,
   "metadata": {},
   "outputs": [],
   "source": [
    "def Apply_Transformation(img, transform_idx):\n",
    "\n",
    "    # Get transformation to apply\n",
    "    # Take the inverse to perform inverse warping\n",
    "    transform_array = TRANSFORMATIONS[transform_idx]\n",
    "\n",
    "    # Initialize new image\n",
    "    new_img = np.zeros(shape=img.shape)\n",
    "\n",
    "    coor_pairs = []\n",
    "\n",
    "    counter = 1002\n",
    "\n",
    "    # Loop through coordinates and\n",
    "    # apply inverse transformation\n",
    "    for r in range(img.shape[0]):\n",
    "        for c in range(img.shape[1]):\n",
    "            current_coor = np.array([c, r, 1])\n",
    "            new_coor = np.matmul(transform_array, current_coor)\n",
    "            new_x = new_coor[0] / new_coor[2]\n",
    "            new_y = new_coor[1] / new_coor[2]\n",
    "            # Update new image if old coordinate\n",
    "            # is within the image coordinate bounds\n",
    "            if new_y < img.shape[0] - 1 and \\\n",
    "                new_x < img.shape[1] - 1 and \\\n",
    "                new_y > 1 and \\\n",
    "                new_x > 1:\n",
    "\n",
    "                    if new_x % 1 == 0.5:\n",
    "                        new_x += 0.001\n",
    "                    if new_y % 1 == 0.5:\n",
    "                        new_y += 0.001\n",
    "                    new_x, new_y = map(int, map(np.rint, [new_x, new_y]))\n",
    "\n",
    "                    #if img[new_x, new_y, 0] == 255 and len(coor_pairs) < transform_idx + 2 and counter > 1001:\n",
    "                    coor_pairs += [[(new_x, new_y), (c, r)]]\n",
    "\n",
    "                    new_img[r, c] = img[new_y, new_x]\n",
    "\n",
    "    return new_img, coor_pairs"
   ]
  },
  {
   "cell_type": "code",
   "execution_count": 159,
   "metadata": {},
   "outputs": [
    {
     "data": {
      "text/plain": [
       "True"
      ]
     },
     "execution_count": 159,
     "metadata": {},
     "output_type": "execute_result"
    }
   ],
   "source": [
    "simple_image = np.zeros(shape=(1024,1024,3))\n",
    "\n",
    "simple_image[300:500, 300] = 255\n",
    "simple_image[300:500, 500] = 255\n",
    "simple_image[300, 300:500] = 255\n",
    "simple_image[500, 300:500] = 255\n",
    "\n",
    "cv2.imwrite('part2-images/Simple.jpg', simple_image)"
   ]
  },
  {
   "cell_type": "code",
   "execution_count": 160,
   "metadata": {},
   "outputs": [
    {
     "data": {
      "text/plain": [
       "[[(825, 221), (925, 421)],\n",
       " [(860, 90), (960, 290)],\n",
       " [(884, 369), (984, 569)],\n",
       " [(779, 228), (879, 428)],\n",
       " [(444, 419), (544, 619)],\n",
       " [(183, 332), (283, 532)],\n",
       " [(304, 119), (404, 319)],\n",
       " [(715, 516), (815, 716)],\n",
       " [(95, 268), (195, 468)],\n",
       " [(416, 822), (516, 1022)]]"
      ]
     },
     "execution_count": 160,
     "metadata": {},
     "output_type": "execute_result"
    }
   ],
   "source": [
    "translated_img, translated_coors = Apply_Transformation(simple_image, 0)\n",
    "cv2.imwrite('part2-images/Simple_Translation.jpg', translated_img)\n",
    "np.random.shuffle(translated_coors)\n",
    "translated_coors[:10]"
   ]
  },
  {
   "cell_type": "code",
   "execution_count": 161,
   "metadata": {},
   "outputs": [
    {
     "data": {
      "text/plain": [
       "[[(420, 1007), (832, 657)],\n",
       " [(127, 178), (192, 91)],\n",
       " [(307, 797), (637, 532)],\n",
       " [(196, 846), (565, 626)],\n",
       " [(36, 472), (253, 384)],\n",
       " [(244, 625), (502, 416)],\n",
       " [(473, 543), (658, 238)],\n",
       " [(661, 869), (971, 426)],\n",
       " [(497, 844), (820, 482)],\n",
       " [(222, 667), (503, 462)]]"
      ]
     },
     "execution_count": 161,
     "metadata": {},
     "output_type": "execute_result"
    }
   ],
   "source": [
    "euclidean_img, euclidean_coors = Apply_Transformation(simple_image, 1)\n",
    "cv2.imwrite('part2-images/Simple_Euclidean.jpg', euclidean_img)\n",
    "np.random.shuffle(euclidean_coors)\n",
    "euclidean_coors[:10]"
   ]
  },
  {
   "cell_type": "code",
   "execution_count": 162,
   "metadata": {},
   "outputs": [
    {
     "data": {
      "text/plain": [
       "[[(519, 268), (651, 334)],\n",
       " [(533, 600), (333, 500)],\n",
       " [(307, 172), (535, 286)],\n",
       " [(839, 338), (901, 369)],\n",
       " [(578, 932), (46, 666)],\n",
       " [(856, 402), (854, 401)],\n",
       " [(944, 612), (732, 506)],\n",
       " [(401, 414), (387, 407)],\n",
       " [(1002, 430), (972, 415)],\n",
       " [(689, 192), (897, 296)]]"
      ]
     },
     "execution_count": 162,
     "metadata": {},
     "output_type": "execute_result"
    }
   ],
   "source": [
    "affine_img, affine_coors = Apply_Transformation(simple_image, 2)\n",
    "cv2.imwrite('part2-images/Simple_Affine.jpg', affine_img)\n",
    "np.random.shuffle(affine_coors)\n",
    "affine_coors[:10]"
   ]
  },
  {
   "cell_type": "code",
   "execution_count": 163,
   "metadata": {},
   "outputs": [
    {
     "data": {
      "text/plain": [
       "[[(740, 539), (567, 744)],\n",
       " [(946, 256), (939, 652)],\n",
       " [(503, 764), (253, 765)],\n",
       " [(684, 799), (373, 905)],\n",
       " [(306, 924), (46, 763)],\n",
       " [(795, 762), (494, 957)],\n",
       " [(186, 810), (38, 636)],\n",
       " [(434, 896), (137, 816)],\n",
       " [(841, 333), (778, 649)],\n",
       " [(401, 8), (541, 262)]]"
      ]
     },
     "execution_count": 163,
     "metadata": {},
     "output_type": "execute_result"
    }
   ],
   "source": [
    "project_img, project_coors = Apply_Transformation(simple_image, 3)\n",
    "cv2.imwrite('part2-images/Simple_Project.jpg', project_img)\n",
    "np.random.shuffle(project_coors)\n",
    "project_coors[:10]"
   ]
  },
  {
   "cell_type": "code",
   "execution_count": 164,
   "metadata": {},
   "outputs": [
    {
     "data": {
      "text/plain": [
       "[[(960, 623), (750, 967)],\n",
       " [(607, 788), (313, 852)],\n",
       " [(187, 507), (170, 464)],\n",
       " [(416, 707), (215, 686)],\n",
       " [(501, 435), (418, 549)],\n",
       " [(744, 768), (442, 929)],\n",
       " [(728, 824), (395, 964)],\n",
       " [(537, 608), (357, 681)],\n",
       " [(503, 752), (253, 763)],\n",
       " [(569, 823), (263, 855)]]"
      ]
     },
     "execution_count": 164,
     "metadata": {},
     "output_type": "execute_result"
    }
   ],
   "source": [
    "from part2 import Apply_Transformation, Apply_Interpolation\n",
    "\n",
    "inv_project_img, inv_project_coors = Apply_Transformation(project_img, 4)\n",
    "cv2.imwrite('part2-images/Simple_Project_Inverse.jpg', inv_project_img)\n",
    "np.random.shuffle(inv_project_coors)\n",
    "inv_project_coors[:10]"
   ]
  },
  {
   "cell_type": "code",
   "execution_count": null,
   "metadata": {},
   "outputs": [],
   "source": []
  }
 ],
 "metadata": {
  "interpreter": {
   "hash": "80f562c4332a1b652b43abc3f6dc8822e0539e2ff14e2e1d70aad5b28f23c7c5"
  },
  "kernelspec": {
   "display_name": "Python 3.7.6 ('base')",
   "language": "python",
   "name": "python3"
  },
  "language_info": {
   "codemirror_mode": {
    "name": "ipython",
    "version": 3
   },
   "file_extension": ".py",
   "mimetype": "text/x-python",
   "name": "python",
   "nbconvert_exporter": "python",
   "pygments_lexer": "ipython3",
   "version": "3.10.3"
  },
  "orig_nbformat": 4
 },
 "nbformat": 4,
 "nbformat_minor": 2
}
