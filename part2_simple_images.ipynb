{
 "cells": [
  {
   "cell_type": "code",
   "execution_count": 132,
   "metadata": {},
   "outputs": [],
   "source": [
    "import cv2\n",
    "import numpy as np"
   ]
  },
  {
   "cell_type": "code",
   "execution_count": 133,
   "metadata": {},
   "outputs": [],
   "source": [
    "TRANSFORMATIONS = [\n",
    "\n",
    "    # Translation\n",
    "    np.array([\n",
    "        [1, 0, -100],\n",
    "        [0, 1, -200],\n",
    "        [0, 0, 1]\n",
    "    ]),\n",
    "\n",
    "    # Euclidean\n",
    "    np.array([\n",
    "        [0.9, -0.5, 0],\n",
    "        [0.5, 0.9, 0],\n",
    "        [0, 0, 1]\n",
    "    ]),\n",
    "\n",
    "    # Affine\n",
    "    np.array([\n",
    "        [1, 2, -800],\n",
    "        [0, 2, -400],\n",
    "        [0, 0, 1]\n",
    "    ]),\n",
    "\n",
    "    # Projection\n",
    "    np.array([[ 1.80258009e+00,  1.55276411e+00, -7.76398173e+02],\n",
    "       [-8.09994414e-01,  2.13295256e+00, -1.07909987e+02],\n",
    "       [ 5.79313440e-04,  7.57830547e-04,  1.00000000e+00]])\n",
    "\n",
    "]"
   ]
  },
  {
   "cell_type": "code",
   "execution_count": 134,
   "metadata": {},
   "outputs": [],
   "source": [
    "def Apply_Transformation(img, transform_idx):\n",
    "\n",
    "    # Get transformation to apply\n",
    "    # Take the inverse to perform inverse warping\n",
    "    transform_array = TRANSFORMATIONS[transform_idx]\n",
    "\n",
    "    # Initialize new image\n",
    "    new_img = np.zeros(shape=img.shape)\n",
    "\n",
    "    coor_pairs = []\n",
    "\n",
    "    counter = 1002\n",
    "\n",
    "    # Loop through coordinates and\n",
    "    # apply inverse transformation\n",
    "    for r in range(img.shape[0]):\n",
    "        for c in range(img.shape[1]):\n",
    "            current_coor = np.array([c, r, 1])\n",
    "            new_coor = np.matmul(transform_array, current_coor)\n",
    "            new_x = new_coor[0] / new_coor[2]\n",
    "            new_y = new_coor[1] / new_coor[2]\n",
    "            # Update new image if old coordinate\n",
    "            # is within the image coordinate bounds\n",
    "            if new_y < img.shape[0] - 1 and \\\n",
    "                new_x < img.shape[1] - 1 and \\\n",
    "                new_y > 1 and \\\n",
    "                new_x > 1:\n",
    "\n",
    "                    if new_x % 1 == 0.5:\n",
    "                        new_x += 0.001\n",
    "                    if new_y % 1 == 0.5:\n",
    "                        new_y += 0.001\n",
    "                    new_x, new_y = map(int, map(np.rint, [new_x, new_y]))\n",
    "\n",
    "                    #if img[new_x, new_y, 0] == 255 and len(coor_pairs) < transform_idx + 2 and counter > 1001:\n",
    "                    coor_pairs += [[(new_x, new_y), (c, r)]]\n",
    "\n",
    "                    new_img[r, c] = img[new_y, new_x]\n",
    "\n",
    "    return new_img, coor_pairs"
   ]
  },
  {
   "cell_type": "code",
   "execution_count": 135,
   "metadata": {},
   "outputs": [
    {
     "data": {
      "text/plain": [
       "True"
      ]
     },
     "execution_count": 135,
     "metadata": {},
     "output_type": "execute_result"
    }
   ],
   "source": [
    "simple_image = np.zeros(shape=(1024,1024,3))\n",
    "\n",
    "simple_image[300:500, 300] = 255\n",
    "simple_image[300:500, 500] = 255\n",
    "simple_image[300, 300:500] = 255\n",
    "simple_image[500, 300:500] = 255\n",
    "\n",
    "cv2.imwrite('part2-images/Simple.jpg', simple_image)"
   ]
  },
  {
   "cell_type": "code",
   "execution_count": 136,
   "metadata": {},
   "outputs": [
    {
     "ename": "IndexError",
     "evalue": "only integers, slices (`:`), ellipsis (`...`), numpy.newaxis (`None`) and integer or boolean arrays are valid indices",
     "output_type": "error",
     "traceback": [
      "\u001b[1;31m---------------------------------------------------------------------------\u001b[0m",
      "\u001b[1;31mIndexError\u001b[0m                                Traceback (most recent call last)",
      "\u001b[1;32mc:\\Users\\Olev\\repos\\samize-brycornw-lufranz-a2\\part2_simple_images.ipynb Cell 5'\u001b[0m in \u001b[0;36m<cell line: 1>\u001b[1;34m()\u001b[0m\n\u001b[1;32m----> <a href='vscode-notebook-cell:/c%3A/Users/Olev/repos/samize-brycornw-lufranz-a2/part2_simple_images.ipynb#ch0000004?line=0'>1</a>\u001b[0m translated_img, translated_coors \u001b[39m=\u001b[39m Apply_Transformation(simple_image, \u001b[39m0\u001b[39;49m)\n\u001b[0;32m      <a href='vscode-notebook-cell:/c%3A/Users/Olev/repos/samize-brycornw-lufranz-a2/part2_simple_images.ipynb#ch0000004?line=1'>2</a>\u001b[0m cv2\u001b[39m.\u001b[39mimwrite(\u001b[39m'\u001b[39m\u001b[39mpart2-images/Simple_Translation.jpg\u001b[39m\u001b[39m'\u001b[39m, translated_img)\n\u001b[0;32m      <a href='vscode-notebook-cell:/c%3A/Users/Olev/repos/samize-brycornw-lufranz-a2/part2_simple_images.ipynb#ch0000004?line=2'>3</a>\u001b[0m np\u001b[39m.\u001b[39mrandom\u001b[39m.\u001b[39mshuffle(translated_coors)\n",
      "\u001b[1;32mc:\\Users\\Olev\\repos\\samize-brycornw-lufranz-a2\\part2_simple_images.ipynb Cell 3'\u001b[0m in \u001b[0;36mApply_Transformation\u001b[1;34m(img, transform_idx)\u001b[0m\n\u001b[0;32m     <a href='vscode-notebook-cell:/c%3A/Users/Olev/repos/samize-brycornw-lufranz-a2/part2_simple_images.ipynb#ch0000002?line=37'>38</a>\u001b[0m                 \u001b[39m#if img[new_x, new_y, 0] == 255 and len(coor_pairs) < transform_idx + 2 and counter > 1001:\u001b[39;00m\n\u001b[0;32m     <a href='vscode-notebook-cell:/c%3A/Users/Olev/repos/samize-brycornw-lufranz-a2/part2_simple_images.ipynb#ch0000002?line=38'>39</a>\u001b[0m                 coor_pairs \u001b[39m+\u001b[39m\u001b[39m=\u001b[39m [[(new_x, new_y), (c, r)]]\n\u001b[1;32m---> <a href='vscode-notebook-cell:/c%3A/Users/Olev/repos/samize-brycornw-lufranz-a2/part2_simple_images.ipynb#ch0000002?line=40'>41</a>\u001b[0m                 new_img[r, c] \u001b[39m=\u001b[39m img[new_y, new_x]\n\u001b[0;32m     <a href='vscode-notebook-cell:/c%3A/Users/Olev/repos/samize-brycornw-lufranz-a2/part2_simple_images.ipynb#ch0000002?line=42'>43</a>\u001b[0m \u001b[39mreturn\u001b[39;00m new_img, coor_pairs\n",
      "\u001b[1;31mIndexError\u001b[0m: only integers, slices (`:`), ellipsis (`...`), numpy.newaxis (`None`) and integer or boolean arrays are valid indices"
     ]
    }
   ],
   "source": [
    "translated_img, translated_coors = Apply_Transformation(simple_image, 0)\n",
    "cv2.imwrite('part2-images/Simple_Translation.jpg', translated_img)\n",
    "np.random.shuffle(translated_coors)\n",
    "translated_coors[:10]"
   ]
  },
  {
   "cell_type": "code",
   "execution_count": null,
   "metadata": {},
   "outputs": [
    {
     "data": {
      "text/plain": [
       "[[(355, 645), (606, 380)],\n",
       " [(777, 574), (931, 121)],\n",
       " [(5, 454), (218, 383)],\n",
       " [(568, 638), (783, 274)],\n",
       " [(356, 822), (690, 530)],\n",
       " [(173, 901), (572, 683)],\n",
       " [(340, 383), (469, 165)],\n",
       " [(123, 648), (410, 492)],\n",
       " [(754, 690), (966, 230)],\n",
       " [(607, 917), (948, 492)]]"
      ]
     },
     "execution_count": 129,
     "metadata": {},
     "output_type": "execute_result"
    }
   ],
   "source": [
    "euclidean_img, euclidean_coors = Apply_Transformation(simple_image, 1)\n",
    "cv2.imwrite('part2-images/Simple_Euclidean.jpg', euclidean_img)\n",
    "np.random.shuffle(euclidean_coors)\n",
    "euclidean_coors[:10]"
   ]
  },
  {
   "cell_type": "code",
   "execution_count": null,
   "metadata": {},
   "outputs": [
    {
     "data": {
      "text/plain": [
       "[[(519, 28), (891, 214)],\n",
       " [(788, 870), (318, 635)],\n",
       " [(437, 258), (579, 329)],\n",
       " [(787, 776), (411, 588)],\n",
       " [(648, 800), (248, 600)],\n",
       " [(706, 906), (200, 653)],\n",
       " [(951, 522), (829, 461)],\n",
       " [(177, 106), (471, 253)],\n",
       " [(842, 522), (720, 461)],\n",
       " [(713, 340), (773, 370)]]"
      ]
     },
     "execution_count": 130,
     "metadata": {},
     "output_type": "execute_result"
    }
   ],
   "source": [
    "affine_img, affine_coors = Apply_Transformation(simple_image, 2)\n",
    "cv2.imwrite('part2-images/Simple_Affine.jpg', affine_img)\n",
    "np.random.shuffle(affine_coors)\n",
    "affine_coors[:10]"
   ]
  },
  {
   "cell_type": "code",
   "execution_count": null,
   "metadata": {},
   "outputs": [
    {
     "data": {
      "text/plain": [
       "[[(654, 243), (639, 492)],\n",
       " [(544, 417), (461, 556)],\n",
       " [(836, 271), (805, 600)],\n",
       " [(535, 294), (514, 474)],\n",
       " [(967, 637), (751, 988)],\n",
       " [(300, 591), (208, 557)],\n",
       " [(183, 853), (15, 660)],\n",
       " [(918, 712), (650, 1013)],\n",
       " [(737, 127), (774, 451)],\n",
       " [(851, 621), (631, 882)]]"
      ]
     },
     "execution_count": 131,
     "metadata": {},
     "output_type": "execute_result"
    }
   ],
   "source": [
    "project_img, project_coors = Apply_Transformation(simple_image, 3)\n",
    "cv2.imwrite('part2-images/Simple_Project.jpg', project_img)\n",
    "np.random.shuffle(project_coors)\n",
    "project_coors[:10]"
   ]
  },
  {
   "cell_type": "code",
   "execution_count": null,
   "metadata": {},
   "outputs": [],
   "source": []
  },
  {
   "cell_type": "code",
   "execution_count": null,
   "metadata": {},
   "outputs": [],
   "source": []
  }
 ],
 "metadata": {
  "interpreter": {
   "hash": "80f562c4332a1b652b43abc3f6dc8822e0539e2ff14e2e1d70aad5b28f23c7c5"
  },
  "kernelspec": {
   "display_name": "Python 3.7.6 ('base')",
   "language": "python",
   "name": "python3"
  },
  "language_info": {
   "codemirror_mode": {
    "name": "ipython",
    "version": 3
   },
   "file_extension": ".py",
   "mimetype": "text/x-python",
   "name": "python",
   "nbconvert_exporter": "python",
   "pygments_lexer": "ipython3",
   "version": "3.10.3"
  },
  "orig_nbformat": 4
 },
 "nbformat": 4,
 "nbformat_minor": 2
}
