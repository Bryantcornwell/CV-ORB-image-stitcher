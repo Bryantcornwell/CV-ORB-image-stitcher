{
 "cells": [
  {
   "cell_type": "code",
   "execution_count": 1,
   "metadata": {},
   "outputs": [],
   "source": [
    "import cv2\n",
    "import numpy as np"
   ]
  },
  {
   "cell_type": "code",
   "execution_count": 2,
   "metadata": {},
   "outputs": [],
   "source": [
    "TRANSFORMATIONS = [\n",
    "\n",
    "    # Translation\n",
    "    np.array([\n",
    "        [1, 0, -100],\n",
    "        [0, 1, -200],\n",
    "        [0, 0, 1]\n",
    "    ]),\n",
    "\n",
    "    # Euclidean\n",
    "    np.array([\n",
    "        [0.866, -0.5, 0],\n",
    "        [0.5, 0.866, 0],\n",
    "        [0, 0, 1]\n",
    "    ]),\n",
    "\n",
    "    # Affine\n",
    "    np.array([\n",
    "        [1, 2, -800],\n",
    "        [0, 2, -400],\n",
    "        [0, 0, 1]\n",
    "    ]),\n",
    "\n",
    "    # Projection\n",
    "    np.array([\n",
    "        [1, 0, 100],\n",
    "        [0, 1, 200],\n",
    "        [0, 0, 1]\n",
    "    ])\n",
    "\n",
    "]"
   ]
  },
  {
   "cell_type": "code",
   "execution_count": 3,
   "metadata": {},
   "outputs": [],
   "source": [
    "def Apply_Transformation(img, transform_idx):\n",
    "\n",
    "    # Get transformation to apply\n",
    "    # Take the inverse to perform inverse warping\n",
    "    transform_array = TRANSFORMATIONS[transform_idx]\n",
    "\n",
    "    # Initialize new image\n",
    "    new_img = np.zeros(shape=img.shape)\n",
    "\n",
    "    coor_pairs = []\n",
    "\n",
    "    # Loop through coordinates and\n",
    "    # apply inverse transformation\n",
    "    for r in range(img.shape[0]):\n",
    "        for c in range(img.shape[1]):\n",
    "            current_coor = np.array([c, r, 1])\n",
    "            new_coor = np.matmul(transform_array, current_coor)\n",
    "            new_x = new_coor[0] / new_coor[2]\n",
    "            new_y = new_coor[1] / new_coor[2]\n",
    "            # Update new image if old coordinate\n",
    "            # is within the image coordinate bounds\n",
    "            if new_y < img.shape[0] and \\\n",
    "                new_x < img.shape[1] and \\\n",
    "                new_y > 0 and \\\n",
    "                new_x > 0:\n",
    "\n",
    "                    if new_y % 1 == 0 and new_x % 1 == 0 and img[int(new_y), int(new_x), 0] == 255 and len(coor_pairs) < transform_idx + 1:\n",
    "                        coor_pairs += [[(new_x, new_y), (c, r)]]\n",
    "\n",
    "                    new_img[r, c] = img[int(new_y), int(new_x)]\n",
    "\n",
    "    return new_img, coor_pairs"
   ]
  },
  {
   "cell_type": "code",
   "execution_count": 4,
   "metadata": {},
   "outputs": [
    {
     "data": {
      "text/plain": [
       "True"
      ]
     },
     "execution_count": 4,
     "metadata": {},
     "output_type": "execute_result"
    }
   ],
   "source": [
    "simple_image = np.zeros(shape=(1024,1024,3))\n",
    "\n",
    "simple_image[300:500, 300] = 255\n",
    "simple_image[300:500, 500] = 255\n",
    "simple_image[300, 300:500] = 255\n",
    "simple_image[500, 300:500] = 255\n",
    "\n",
    "cv2.imwrite('part2-images/simple.jpg', simple_image)"
   ]
  },
  {
   "cell_type": "code",
   "execution_count": 5,
   "metadata": {},
   "outputs": [
    {
     "data": {
      "text/plain": [
       "True"
      ]
     },
     "execution_count": 5,
     "metadata": {},
     "output_type": "execute_result"
    }
   ],
   "source": [
    "translated_img, translated_coors = Apply_Transformation(simple_image, 0)\n",
    "cv2.imwrite('part2-images/Simple_Translation_2.jpg', translated_img)"
   ]
  },
  {
   "cell_type": "code",
   "execution_count": 6,
   "metadata": {},
   "outputs": [
    {
     "data": {
      "text/plain": [
       "True"
      ]
     },
     "execution_count": 6,
     "metadata": {},
     "output_type": "execute_result"
    }
   ],
   "source": [
    "euclidean_img, euclidean_coors = Apply_Transformation(simple_image, 1)\n",
    "cv2.imwrite('part2-images/Simple_Euclidean.jpg', euclidean_img)"
   ]
  },
  {
   "cell_type": "code",
   "execution_count": 7,
   "metadata": {},
   "outputs": [
    {
     "data": {
      "text/plain": [
       "True"
      ]
     },
     "execution_count": 7,
     "metadata": {},
     "output_type": "execute_result"
    }
   ],
   "source": [
    "affine_img, affine_img_coors = Apply_Transformation(simple_image, 2)\n",
    "cv2.imwrite('part2-images/Simple_Affine.jpg', affine_img)"
   ]
  },
  {
   "cell_type": "code",
   "execution_count": 8,
   "metadata": {},
   "outputs": [
    {
     "data": {
      "text/plain": [
       "[[(300.0, 300.0), (400, 350)],\n",
       " [(301.0, 300.0), (401, 350)],\n",
       " [(302.0, 300.0), (402, 350)]]"
      ]
     },
     "execution_count": 8,
     "metadata": {},
     "output_type": "execute_result"
    }
   ],
   "source": [
    "affine_img_coors"
   ]
  },
  {
   "cell_type": "code",
   "execution_count": 9,
   "metadata": {},
   "outputs": [],
   "source": [
    "def Solve_Transformation(coor_pairs):\n",
    "\n",
    "    equation_array = np.array([])\n",
    "    answer_array = np.array([])\n",
    "    results_array = np.array([])\n",
    "\n",
    "    if len(coor_pairs) == 1:\n",
    "\n",
    "        equation_array = np.array([\n",
    "            [coor_pairs[0][0][0], 0],\n",
    "            [0, coor_pairs[0][0][1]]\n",
    "        ])\n",
    "\n",
    "        answer_array = np.array([coor_pairs[0][1][0], coor_pairs[0][1][1]])\n",
    "\n",
    "        solved = np.linalg.solve(equation_array, answer_array)\n",
    "\n",
    "        results_array = np.array([\n",
    "            [solved[0], 0, 0],\n",
    "            [0, solved[1], 0],\n",
    "            [0, 0, 1]\n",
    "        ])\n",
    "\n",
    "    return results_array\n",
    "\n",
    "    "
   ]
  },
  {
   "cell_type": "code",
   "execution_count": 10,
   "metadata": {},
   "outputs": [],
   "source": [
    "found_transform = Solve_Transformation(translated_coors)"
   ]
  },
  {
   "cell_type": "code",
   "execution_count": 11,
   "metadata": {},
   "outputs": [
    {
     "data": {
      "text/plain": [
       "array([[1.33333333, 0.        , 0.        ],\n",
       "       [0.        , 1.66666667, 0.        ],\n",
       "       [0.        , 0.        , 1.        ]])"
      ]
     },
     "execution_count": 11,
     "metadata": {},
     "output_type": "execute_result"
    }
   ],
   "source": [
    "found_transform"
   ]
  },
  {
   "cell_type": "code",
   "execution_count": 12,
   "metadata": {},
   "outputs": [],
   "source": [
    "def Apply_Transformation_Two(img, transform_array):\n",
    "\n",
    "    # Initialize new image\n",
    "    new_img = np.zeros(shape=img.shape)\n",
    "\n",
    "    # Loop through coordinates and\n",
    "    # apply inverse transformation\n",
    "    for r in range(img.shape[0]):\n",
    "        for c in range(img.shape[1]):\n",
    "            current_coor = np.array([c, r, 1])\n",
    "            new_coor = np.matmul(transform_array, current_coor)\n",
    "            new_x = new_coor[0] / new_coor[2]\n",
    "            new_y = new_coor[1] / new_coor[2]\n",
    "            # Update new image if old coordinate\n",
    "            # is within the image coordinate bounds\n",
    "            if new_y < img.shape[0] and \\\n",
    "                new_x < img.shape[1] and \\\n",
    "                new_y > 0 and \\\n",
    "                new_x > 0:\n",
    "\n",
    "                    new_img[r, c] = img[int(new_y), int(new_x)]\n",
    "\n",
    "    return new_img"
   ]
  },
  {
   "cell_type": "code",
   "execution_count": 13,
   "metadata": {},
   "outputs": [
    {
     "data": {
      "text/plain": [
       "True"
      ]
     },
     "execution_count": 13,
     "metadata": {},
     "output_type": "execute_result"
    }
   ],
   "source": [
    "thingy = Apply_Transformation_Two(simple_image, found_transform)\n",
    "cv2.imwrite('Simple_Translation_2.jpg', thingy)"
   ]
  },
  {
   "cell_type": "code",
   "execution_count": 14,
   "metadata": {},
   "outputs": [
    {
     "data": {
      "text/plain": [
       "[300, 300, 1]"
      ]
     },
     "execution_count": 14,
     "metadata": {},
     "output_type": "execute_result"
    }
   ],
   "source": [
    "[300, 300, 1]"
   ]
  },
  {
   "cell_type": "code",
   "execution_count": 17,
   "metadata": {},
   "outputs": [
    {
     "ename": "LinAlgError",
     "evalue": "Singular matrix",
     "output_type": "error",
     "traceback": [
      "\u001b[1;31m---------------------------------------------------------------------------\u001b[0m",
      "\u001b[1;31mLinAlgError\u001b[0m                               Traceback (most recent call last)",
      "\u001b[1;32mc:\\Users\\Olev\\repos\\samize-brycornw-lufranz-a2\\part2_nb.ipynb Cell 15'\u001b[0m in \u001b[0;36m<cell line: 13>\u001b[1;34m()\u001b[0m\n\u001b[0;32m      <a href='vscode-notebook-cell:/c%3A/Users/Olev/repos/samize-brycornw-lufranz-a2/part2_nb.ipynb#ch0000014?line=1'>2</a>\u001b[0m one \u001b[39m=\u001b[39m np\u001b[39m.\u001b[39marray([\n\u001b[0;32m      <a href='vscode-notebook-cell:/c%3A/Users/Olev/repos/samize-brycornw-lufranz-a2/part2_nb.ipynb#ch0000014?line=2'>3</a>\u001b[0m     [\u001b[39m300\u001b[39m, \u001b[39m300\u001b[39m, \u001b[39m1\u001b[39m, \u001b[39m0\u001b[39m, \u001b[39m0\u001b[39m, \u001b[39m0\u001b[39m], \n\u001b[0;32m      <a href='vscode-notebook-cell:/c%3A/Users/Olev/repos/samize-brycornw-lufranz-a2/part2_nb.ipynb#ch0000014?line=3'>4</a>\u001b[0m     [\u001b[39m0\u001b[39m, \u001b[39m0\u001b[39m, \u001b[39m0\u001b[39m, \u001b[39m300\u001b[39m, \u001b[39m300\u001b[39m, \u001b[39m1\u001b[39m],\n\u001b[1;32m   (...)\u001b[0m\n\u001b[0;32m      <a href='vscode-notebook-cell:/c%3A/Users/Olev/repos/samize-brycornw-lufranz-a2/part2_nb.ipynb#ch0000014?line=7'>8</a>\u001b[0m     [\u001b[39m0\u001b[39m, \u001b[39m0\u001b[39m, \u001b[39m0\u001b[39m, \u001b[39m302\u001b[39m, \u001b[39m300\u001b[39m, \u001b[39m1\u001b[39m],\n\u001b[0;32m      <a href='vscode-notebook-cell:/c%3A/Users/Olev/repos/samize-brycornw-lufranz-a2/part2_nb.ipynb#ch0000014?line=8'>9</a>\u001b[0m ])\n\u001b[0;32m     <a href='vscode-notebook-cell:/c%3A/Users/Olev/repos/samize-brycornw-lufranz-a2/part2_nb.ipynb#ch0000014?line=10'>11</a>\u001b[0m two \u001b[39m=\u001b[39m np\u001b[39m.\u001b[39marray([\u001b[39m400\u001b[39m, \u001b[39m350\u001b[39m, \u001b[39m401\u001b[39m, \u001b[39m350\u001b[39m, \u001b[39m402\u001b[39m, \u001b[39m350\u001b[39m])\n\u001b[1;32m---> <a href='vscode-notebook-cell:/c%3A/Users/Olev/repos/samize-brycornw-lufranz-a2/part2_nb.ipynb#ch0000014?line=12'>13</a>\u001b[0m np\u001b[39m.\u001b[39;49mlinalg\u001b[39m.\u001b[39;49minv(one)\n\u001b[0;32m     <a href='vscode-notebook-cell:/c%3A/Users/Olev/repos/samize-brycornw-lufranz-a2/part2_nb.ipynb#ch0000014?line=14'>15</a>\u001b[0m np\u001b[39m.\u001b[39mlinalg\u001b[39m.\u001b[39msolve(one, two)\n",
      "File \u001b[1;32m<__array_function__ internals>:180\u001b[0m, in \u001b[0;36minv\u001b[1;34m(*args, **kwargs)\u001b[0m\n",
      "File \u001b[1;32m~\\AppData\\Local\\Programs\\Python\\Python310\\lib\\site-packages\\numpy\\linalg\\linalg.py:545\u001b[0m, in \u001b[0;36minv\u001b[1;34m(a)\u001b[0m\n\u001b[0;32m    <a href='file:///c%3A/Users/Olev/AppData/Local/Programs/Python/Python310/lib/site-packages/numpy/linalg/linalg.py?line=542'>543</a>\u001b[0m signature \u001b[39m=\u001b[39m \u001b[39m'\u001b[39m\u001b[39mD->D\u001b[39m\u001b[39m'\u001b[39m \u001b[39mif\u001b[39;00m isComplexType(t) \u001b[39melse\u001b[39;00m \u001b[39m'\u001b[39m\u001b[39md->d\u001b[39m\u001b[39m'\u001b[39m\n\u001b[0;32m    <a href='file:///c%3A/Users/Olev/AppData/Local/Programs/Python/Python310/lib/site-packages/numpy/linalg/linalg.py?line=543'>544</a>\u001b[0m extobj \u001b[39m=\u001b[39m get_linalg_error_extobj(_raise_linalgerror_singular)\n\u001b[1;32m--> <a href='file:///c%3A/Users/Olev/AppData/Local/Programs/Python/Python310/lib/site-packages/numpy/linalg/linalg.py?line=544'>545</a>\u001b[0m ainv \u001b[39m=\u001b[39m _umath_linalg\u001b[39m.\u001b[39;49minv(a, signature\u001b[39m=\u001b[39;49msignature, extobj\u001b[39m=\u001b[39;49mextobj)\n\u001b[0;32m    <a href='file:///c%3A/Users/Olev/AppData/Local/Programs/Python/Python310/lib/site-packages/numpy/linalg/linalg.py?line=545'>546</a>\u001b[0m \u001b[39mreturn\u001b[39;00m wrap(ainv\u001b[39m.\u001b[39mastype(result_t, copy\u001b[39m=\u001b[39m\u001b[39mFalse\u001b[39;00m))\n",
      "File \u001b[1;32m~\\AppData\\Local\\Programs\\Python\\Python310\\lib\\site-packages\\numpy\\linalg\\linalg.py:88\u001b[0m, in \u001b[0;36m_raise_linalgerror_singular\u001b[1;34m(err, flag)\u001b[0m\n\u001b[0;32m     <a href='file:///c%3A/Users/Olev/AppData/Local/Programs/Python/Python310/lib/site-packages/numpy/linalg/linalg.py?line=86'>87</a>\u001b[0m \u001b[39mdef\u001b[39;00m \u001b[39m_raise_linalgerror_singular\u001b[39m(err, flag):\n\u001b[1;32m---> <a href='file:///c%3A/Users/Olev/AppData/Local/Programs/Python/Python310/lib/site-packages/numpy/linalg/linalg.py?line=87'>88</a>\u001b[0m     \u001b[39mraise\u001b[39;00m LinAlgError(\u001b[39m\"\u001b[39m\u001b[39mSingular matrix\u001b[39m\u001b[39m\"\u001b[39m)\n",
      "\u001b[1;31mLinAlgError\u001b[0m: Singular matrix"
     ]
    }
   ],
   "source": [
    "import numpy as np\n",
    "one = np.array([\n",
    "    [300, 300, 1, 0, 0, 0], \n",
    "    [0, 0, 0, 300, 300, 1],\n",
    "    [301, 300, 1, 0, 0, 0], \n",
    "    [0, 0, 0, 301, 300, 1],\n",
    "    [302, 300, 1, 0, 0, 0],  \n",
    "    [0, 0, 0, 302, 300, 1],\n",
    "])\n",
    "\n",
    "two = np.array([400, 350, 401, 350, 402, 350])\n",
    "\n",
    "\n",
    "\n",
    "np.linalg.solve(one, two)"
   ]
  },
  {
   "cell_type": "code",
   "execution_count": null,
   "metadata": {},
   "outputs": [
    {
     "data": {
      "text/plain": [
       "array([400., 350.,   1.])"
      ]
     },
     "execution_count": 79,
     "metadata": {},
     "output_type": "execute_result"
    }
   ],
   "source": [
    "t = np.linalg.solve(one, two)\n",
    "\n",
    "one_orig = np.array([\n",
    "        300, 300, 1\n",
    "    ])\n",
    "\n",
    "solved = np.array([\n",
    "    [t[0], t[1],  t[2]],\n",
    "    [t[3], t[4],  t[5]],\n",
    "    [0, 0, 1]\n",
    "])\n",
    "\n",
    "np.matmul(solved, one_orig)"
   ]
  },
  {
   "cell_type": "code",
   "execution_count": null,
   "metadata": {},
   "outputs": [],
   "source": []
  },
  {
   "cell_type": "code",
   "execution_count": null,
   "metadata": {},
   "outputs": [],
   "source": []
  },
  {
   "cell_type": "code",
   "execution_count": null,
   "metadata": {},
   "outputs": [],
   "source": [
    "# “book1.jpg”: {(318, 256), (534, 372), (316, 670), (73, 473)}\n",
    "# “book2.jpg”: {(141, 131), (480, 159), (493, 630), (64, 601)}"
   ]
  },
  {
   "cell_type": "code",
   "execution_count": 11,
   "metadata": {},
   "outputs": [
    {
     "name": "stdout",
     "output_type": "stream",
     "text": [
      "(12, 9) (9, 12)\n"
     ]
    },
    {
     "data": {
      "text/plain": [
       "array([ 1.08879383e+00,  8.53339399e-01, -4.21114305e+02, -7.04562021e-01,\n",
       "        1.18267744e+00,  7.52099293e+01, -8.73660953e-14,  6.10470875e-14,\n",
       "        1.00000000e+00])"
      ]
     },
     "execution_count": 11,
     "metadata": {},
     "output_type": "execute_result"
    }
   ],
   "source": [
    "import numpy as np\n",
    "# one = np.array([\n",
    "#     [318, 256, 1, 1, 0, 0, 0, 0], \n",
    "#     [0, 0, 0, 0, 318, 256, 1, 1],\n",
    "#     [534, 372, 1, 1, 0, 0, 0, 0], \n",
    "#     [0, 0, 0, 0, 534, 372, 1, 1],\n",
    "#     [316, 670, 1, 1, 0, 0, 0, 0], \n",
    "#     [0, 0, 0, 0, 316, 670, 1, 1],\n",
    "#     [73, 473, 1, 1, 0, 0, 0, 0],  \n",
    "#     [0, 0, 0, 0, 73, 473, 1, 1],\n",
    "# ])\n",
    "\n",
    "# two = np.array([141, 131, 480, 159, 493, 630, 64, 601])\n",
    "\n",
    "# np.linalg.solve(one, two)\n",
    "\n",
    "one = np.array([\n",
    "    [318, 256, 1, 0, 0, 0, 0, 0, 0], \n",
    "    [0, 0, 0, 318, 256, 1, 0 , 0, 0],\n",
    "    [0, 0, 0, 0, 0, 0, 318, 256, 1],\n",
    "    [534, 372, 1, 0, 0, 0, 0, 0, 0], \n",
    "    [0, 0, 0, 534, 372, 1, 0, 0, 0], \n",
    "    [0, 0, 0, 0, 0, 0, 534, 372, 1],\n",
    "    [316, 670, 1, 0, 0, 0, 0, 0, 0], \n",
    "    [0, 0, 0, 316, 670, 1, 0, 0, 0],\n",
    "    [0, 0, 0, 0, 0, 0, 316, 670, 1],\n",
    "    [73, 473, 1, 0, 0, 0, 0, 0, 0], \n",
    "    [0, 0, 0, 73, 473, 1, 0, 0, 0],\n",
    "    [0, 0, 0, 0, 0, 0, 73, 473, 1]\n",
    "])\n",
    "\n",
    "two = np.array([141, 131, 1, 480, 159, 1, 493, 630, 1, 64, 601, 1])\n",
    "\n",
    "#np.linalg.solve(one, two)\n",
    "one_pinv = np.linalg.pinv(one)\n",
    "print(one.shape, one_pinv.shape)\n",
    "np.dot(one_pinv, two)\n"
   ]
  },
  {
   "cell_type": "code",
   "execution_count": 5,
   "metadata": {},
   "outputs": [],
   "source": [
    "#t = np.linalg.solve(one, two)\n",
    "t = np.dot(one_pinv, two)\n",
    "\n",
    "one_orig = np.array([\n",
    "        [318, 534, 316, 73],\n",
    "        [256, 372, 670, 473],\n",
    "        [1, 1, 1, 1]\n",
    "    ])\n",
    "\n",
    "# (64, 601)\n",
    "\n",
    "solved = np.array([\n",
    "    [t[0], t[1],  t[2]],\n",
    "    [t[3], t[4],  t[5]],\n",
    "    [t[6], t[7], t[8]]\n",
    "])\n",
    "\n",
    "out = np.matmul(solved, one_orig)"
   ]
  },
  {
   "cell_type": "code",
   "execution_count": 6,
   "metadata": {},
   "outputs": [
    {
     "data": {
      "text/plain": [
       "array([[143.57701939, 477.74385706, 494.68194299,  61.99718057],\n",
       "       [153.92463188, 138.92981864, 644.96221726, 583.18333221],\n",
       "       [  1.        ,   1.        ,   1.        ,   1.        ]])"
      ]
     },
     "execution_count": 6,
     "metadata": {},
     "output_type": "execute_result"
    }
   ],
   "source": [
    "out"
   ]
  },
  {
   "cell_type": "code",
   "execution_count": 89,
   "metadata": {},
   "outputs": [
    {
     "data": {
      "text/plain": [
       "0.0018131077965894726"
      ]
     },
     "execution_count": 89,
     "metadata": {},
     "output_type": "execute_result"
    }
   ],
   "source": [
    "out[0] / out[2]"
   ]
  },
  {
   "cell_type": "code",
   "execution_count": 13,
   "metadata": {},
   "outputs": [
    {
     "data": {
      "text/plain": [
       "True"
      ]
     },
     "execution_count": 13,
     "metadata": {},
     "output_type": "execute_result"
    }
   ],
   "source": [
    "simple_image = np.zeros(shape=(1024,1024,3))\n",
    "\n",
    "simple_image[700:900, 700] = 255\n",
    "simple_image[700:900, 900] = 255\n",
    "simple_image[700, 700:900] = 255\n",
    "simple_image[900, 700:900] = 255\n",
    "\n",
    "cv2.imwrite('part2-images/simple_img2.jpg', simple_image)"
   ]
  },
  {
   "cell_type": "code",
   "execution_count": 17,
   "metadata": {},
   "outputs": [],
   "source": [
    "first_corners = np.array([\n",
    "    [300, 300, 500, 500],\n",
    "    [300, 500, 300, 500],\n",
    "    [1, 1, 1]\n",
    "])\n",
    "\n",
    "second_corners = np.array([\n",
    "    [700, 700, 900, 900],\n",
    "    [700, 900, 700, 900],\n",
    "    [1, 1, 1]\n",
    "])"
   ]
  },
  {
   "cell_type": "code",
   "execution_count": null,
   "metadata": {},
   "outputs": [],
   "source": [
    "first_corners = np.array([\n",
    "    [300, 300, 1],\n",
    "    [0, 300, 1],\n",
    "    [0, 0, 1]\n",
    "])\n",
    "\n",
    "second_corners = np.array([700, 700, 1])"
   ]
  },
  {
   "cell_type": "code",
   "execution_count": 116,
   "metadata": {},
   "outputs": [],
   "source": [
    "first_corners = np.array([\n",
    "    [300, 0, 1],\n",
    "    [0, 300, 1],\n",
    "    [0, 0, 1]\n",
    "])\n",
    "\n",
    "second_corners = np.array([700, 700, 1])"
   ]
  },
  {
   "cell_type": "code",
   "execution_count": 120,
   "metadata": {},
   "outputs": [
    {
     "name": "stderr",
     "output_type": "stream",
     "text": [
      "C:\\Ed\\Anaconda\\lib\\site-packages\\ipykernel_launcher.py:1: FutureWarning: `rcond` parameter will change to the default of machine precision times ``max(M, N)`` where M and N are the input matrix dimensions.\n",
      "To use the future default and silence this warning we advise to pass `rcond=None`, to keep using the old, explicitly pass `rcond=-1`.\n",
      "  \"\"\"Entry point for launching an IPython kernel.\n"
     ]
    }
   ],
   "source": [
    "ans = np.linalg.solve(first_corners, second_corners)"
   ]
  },
  {
   "cell_type": "code",
   "execution_count": 119,
   "metadata": {},
   "outputs": [
    {
     "data": {
      "text/plain": [
       "array([2.33, 2.33, 1.  ])"
      ]
     },
     "execution_count": 119,
     "metadata": {},
     "output_type": "execute_result"
    }
   ],
   "source": [
    "ans"
   ]
  },
  {
   "cell_type": "code",
   "execution_count": 115,
   "metadata": {},
   "outputs": [
    {
     "ename": "ValueError",
     "evalue": "matmul: Input operand 1 does not have enough dimensions (has 0, gufunc core with signature (n?,k),(k,m?)->(n?,m?) requires 1)",
     "output_type": "error",
     "traceback": [
      "\u001b[1;31m---------------------------------------------------------------------------\u001b[0m",
      "\u001b[1;31mValueError\u001b[0m                                Traceback (most recent call last)",
      "\u001b[1;32m<ipython-input-115-e559947de260>\u001b[0m in \u001b[0;36m<module>\u001b[1;34m\u001b[0m\n\u001b[1;32m----> 1\u001b[1;33m \u001b[0mnp\u001b[0m\u001b[1;33m.\u001b[0m\u001b[0mmatmul\u001b[0m\u001b[1;33m(\u001b[0m\u001b[0mfirst_corners\u001b[0m\u001b[1;33m[\u001b[0m\u001b[1;36m0\u001b[0m\u001b[1;33m]\u001b[0m\u001b[1;33m,\u001b[0m \u001b[0mans\u001b[0m\u001b[1;33m[\u001b[0m\u001b[1;36m0\u001b[0m\u001b[1;33m]\u001b[0m\u001b[1;33m)\u001b[0m\u001b[1;33m\u001b[0m\u001b[1;33m\u001b[0m\u001b[0m\n\u001b[0m",
      "\u001b[1;31mValueError\u001b[0m: matmul: Input operand 1 does not have enough dimensions (has 0, gufunc core with signature (n?,k),(k,m?)->(n?,m?) requires 1)"
     ]
    }
   ],
   "source": [
    "np.matmul(first_corners[0], ans[0])"
   ]
  },
  {
   "cell_type": "code",
   "execution_count": 89,
   "metadata": {},
   "outputs": [
    {
     "data": {
      "text/plain": [
       "array([  0, 500,   1])"
      ]
     },
     "execution_count": 89,
     "metadata": {},
     "output_type": "execute_result"
    }
   ],
   "source": [
    "first_corners[1]"
   ]
  },
  {
   "cell_type": "code",
   "execution_count": 90,
   "metadata": {},
   "outputs": [
    {
     "data": {
      "text/plain": [
       "array([2.33329541, 1.79997724, 0.01137761])"
      ]
     },
     "execution_count": 90,
     "metadata": {},
     "output_type": "execute_result"
    }
   ],
   "source": [
    "ans[0]"
   ]
  },
  {
   "cell_type": "code",
   "execution_count": null,
   "metadata": {},
   "outputs": [],
   "source": []
  },
  {
   "cell_type": "code",
   "execution_count": null,
   "metadata": {},
   "outputs": [],
   "source": [
    "# Translation\n",
    "input_matrix = np.array([\n",
    "    [300, 300, 1]\n",
    "])\n",
    "\n",
    "output_matrix = np.array([\n",
    "    [700, 700, 1]\n",
    "])\n",
    "\n",
    "# Euclidean\n",
    "input_matrix = np.array([\n",
    "    [300, 300, 1],\n",
    "    [300, 500, 1]\n",
    "])\n",
    "\n",
    "output_matrix = np.array([\n",
    "    [700, 700, 1],\n",
    "    [800, 950, 1]\n",
    "])\n",
    "\n",
    "# Affine\n",
    "input_matrix = np.array([\n",
    "    [300, 300, 1],\n",
    "    [300, 500, 1],\n",
    "    [500, 500, 1]\n",
    "])\n",
    "\n",
    "output_matrix = np.array([\n",
    "    [700, 700, 1],\n",
    "    [800, 875, 1],\n",
    "    []\n",
    "])"
   ]
  }
 ],
 "metadata": {
  "interpreter": {
   "hash": "80f562c4332a1b652b43abc3f6dc8822e0539e2ff14e2e1d70aad5b28f23c7c5"
  },
  "kernelspec": {
   "display_name": "Python 3.7.6 ('base')",
   "language": "python",
   "name": "python3"
  },
  "language_info": {
   "codemirror_mode": {
    "name": "ipython",
    "version": 3
   },
   "file_extension": ".py",
   "mimetype": "text/x-python",
   "name": "python",
   "nbconvert_exporter": "python",
   "pygments_lexer": "ipython3",
   "version": "3.10.3"
  },
  "orig_nbformat": 4
 },
 "nbformat": 4,
 "nbformat_minor": 2
}
