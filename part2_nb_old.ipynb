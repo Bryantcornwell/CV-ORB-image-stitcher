{
 "cells": [
  {
   "cell_type": "code",
   "execution_count": 102,
   "metadata": {},
   "outputs": [],
   "source": [
    "import cv2\n",
    "import numpy as np"
   ]
  },
  {
   "cell_type": "code",
   "execution_count": 103,
   "metadata": {},
   "outputs": [],
   "source": [
    "TRANSFORMATIONS = [\n",
    "\n",
    "    # Translation\n",
    "    np.array([\n",
    "        [1, 0, -100],\n",
    "        [0, 1, -200],\n",
    "        [0, 0, 1]\n",
    "    ]),\n",
    "\n",
    "    # Euclidean\n",
    "    np.array([\n",
    "        [0.866, -0.5, 0],\n",
    "        [0.5, 0.866, 0],\n",
    "        [0, 0, 1]\n",
    "    ]),\n",
    "\n",
    "    # Affine\n",
    "    np.array([\n",
    "        [1, 2, -800],\n",
    "        [0, 2, -400],\n",
    "        [0, 0, 1]\n",
    "    ]),\n",
    "\n",
    "    # Projection\n",
    "    np.array([\n",
    "        [1, 0, 100],\n",
    "        [0, 1, 200],\n",
    "        [0, 0, 1]\n",
    "    ])\n",
    "\n",
    "]"
   ]
  },
  {
   "cell_type": "code",
   "execution_count": 178,
   "metadata": {},
   "outputs": [],
   "source": [
    "def Apply_Transformation(img, transform_idx):\n",
    "\n",
    "    # Get transformation to apply\n",
    "    # Take the inverse to perform inverse warping\n",
    "    transform_array = TRANSFORMATIONS[transform_idx]\n",
    "\n",
    "    # Initialize new image\n",
    "    new_img = np.zeros(shape=img.shape)\n",
    "\n",
    "    coor_pairs = []\n",
    "\n",
    "    counter = 101\n",
    "\n",
    "    # Loop through coordinates and\n",
    "    # apply inverse transformation\n",
    "    for r in range(img.shape[0]):\n",
    "        for c in range(img.shape[1]):\n",
    "            current_coor = np.array([c, r, 1])\n",
    "            new_coor = np.matmul(transform_array, current_coor)\n",
    "            new_x = new_coor[0] / new_coor[2]\n",
    "            new_y = new_coor[1] / new_coor[2]\n",
    "            # Update new image if old coordinate\n",
    "            # is within the image coordinate bounds\n",
    "            if new_y < img.shape[0] and \\\n",
    "                new_x < img.shape[1] and \\\n",
    "                new_y > 0 and \\\n",
    "                new_x > 0:\n",
    "\n",
    "                    if len(coor_pairs) > 0:\n",
    "                        counter += 1\n",
    "\n",
    "                    if new_y % 1 == 0 and new_x % 1 == 0 and img[int(new_y), int(new_x), 0] == 255 and len(coor_pairs) < transform_idx + 1 and counter > 100:\n",
    "                        coor_pairs += [[(new_x, new_y), (c, r)]]\n",
    "                        counter = 0\n",
    "\n",
    "                    new_img[r, c] = img[int(new_y), int(new_x)]\n",
    "\n",
    "    return new_img, coor_pairs"
   ]
  },
  {
   "cell_type": "code",
   "execution_count": 167,
   "metadata": {},
   "outputs": [
    {
     "data": {
      "text/plain": [
       "True"
      ]
     },
     "execution_count": 167,
     "metadata": {},
     "output_type": "execute_result"
    }
   ],
   "source": [
    "simple_image = np.zeros(shape=(1024,1024,3))\n",
    "\n",
    "simple_image[300:500, 300] = 255\n",
    "simple_image[300:500, 500] = 255\n",
    "simple_image[300, 300:500] = 255\n",
    "simple_image[500, 300:500] = 255\n",
    "\n",
    "cv2.imwrite('part2-images/simple.jpg', simple_image)"
   ]
  },
  {
   "cell_type": "code",
   "execution_count": 168,
   "metadata": {},
   "outputs": [
    {
     "data": {
      "text/plain": [
       "True"
      ]
     },
     "execution_count": 168,
     "metadata": {},
     "output_type": "execute_result"
    }
   ],
   "source": [
    "translated_img, translated_coors = Apply_Transformation(simple_image, 0)\n",
    "cv2.imwrite('part2-images/Simple_Translation_2.jpg', translated_img)"
   ]
  },
  {
   "cell_type": "code",
   "execution_count": 169,
   "metadata": {},
   "outputs": [
    {
     "data": {
      "text/plain": [
       "True"
      ]
     },
     "execution_count": 169,
     "metadata": {},
     "output_type": "execute_result"
    }
   ],
   "source": [
    "euclidean_img, euclidean_coors = Apply_Transformation(simple_image, 1)\n",
    "cv2.imwrite('part2-images/Simple_Euclidean.jpg', euclidean_img)"
   ]
  },
  {
   "cell_type": "code",
   "execution_count": 179,
   "metadata": {},
   "outputs": [
    {
     "data": {
      "text/plain": [
       "True"
      ]
     },
     "execution_count": 179,
     "metadata": {},
     "output_type": "execute_result"
    }
   ],
   "source": [
    "affine_img, affine_img_coors = Apply_Transformation(simple_image, 2)\n",
    "cv2.imwrite('part2-images/Simple_Affine.jpg', affine_img)"
   ]
  },
  {
   "cell_type": "code",
   "execution_count": 180,
   "metadata": {},
   "outputs": [
    {
     "data": {
      "text/plain": [
       "[[(300.0, 300.0), (400, 350)],\n",
       " [(401.0, 300.0), (501, 350)],\n",
       " [(300.0, 302.0), (398, 351)]]"
      ]
     },
     "execution_count": 180,
     "metadata": {},
     "output_type": "execute_result"
    }
   ],
   "source": [
    "affine_img_coors"
   ]
  },
  {
   "cell_type": "code",
   "execution_count": 129,
   "metadata": {},
   "outputs": [],
   "source": [
    "def Solve_Transformation(coor_pairs):\n",
    "\n",
    "    equation_array = np.array([])\n",
    "    answer_array = np.array([])\n",
    "    results_array = np.array([])\n",
    "\n",
    "    if len(coor_pairs) == 1:\n",
    "\n",
    "        equation_array = np.array([\n",
    "            [coor_pairs[0][0][0], 0],\n",
    "            [0, coor_pairs[0][0][1]]\n",
    "        ])\n",
    "\n",
    "        answer_array = np.array([coor_pairs[0][1][0], coor_pairs[0][1][1]])\n",
    "\n",
    "        solved = np.linalg.solve(equation_array, answer_array)\n",
    "\n",
    "        results_array = np.array([\n",
    "            [solved[0], 0, 0],\n",
    "            [0, solved[1], 0],\n",
    "            [0, 0, 1]\n",
    "        ])\n",
    "\n",
    "    if len(coor_pairs) == 3:\n",
    "        equation_array = np.array([\n",
    "            [coor_pairs[0][0][0], coor_pairs[0][0][1], 1, 0, 0, 0],\n",
    "            [0, 0, 0, coor_pairs[0][0][0], coor_pairs[0][0][1], 1],\n",
    "            [coor_pairs[1][0][0], coor_pairs[1][0][1], 1, 0, 0, 0],\n",
    "            [0, 0, 0, coor_pairs[1][0][0], coor_pairs[1][0][1], 1],\n",
    "            [coor_pairs[2][0][0], coor_pairs[2][0][1], 1, 0, 0, 0],\n",
    "            [0, 0, 0, coor_pairs[2][0][0], coor_pairs[2][0][1], 1],\n",
    "        ])\n",
    "\n",
    "        answer_array = np.array([coor_pairs[0][1][0], coor_pairs[0][1][1], coor_pairs[1][1][0], coor_pairs[1][1][1], coor_pairs[2][1][0], coor_pairs[2][1][1]])\n",
    "\n",
    "        solved = np.linalg.solve(equation_array, answer_array)\n",
    "\n",
    "        results_array = np.array([\n",
    "            [solved[0], solved[1], solved[2]],\n",
    "            [solved[3], solved[4], solved[5]],\n",
    "            [0, 0, 1]\n",
    "        ])\n",
    "\n",
    "\n",
    "    return results_array, equation_array, answer_array\n",
    "\n",
    "    "
   ]
  },
  {
   "cell_type": "code",
   "execution_count": 130,
   "metadata": {},
   "outputs": [],
   "source": [
    "found_transform, a, b = Solve_Transformation(affine_img_coors)"
   ]
  },
  {
   "cell_type": "code",
   "execution_count": 131,
   "metadata": {},
   "outputs": [
    {
     "data": {
      "text/plain": [
       "array([[300., 300.,   1.,   0.,   0.,   0.],\n",
       "       [  0.,   0.,   0., 300., 300.,   1.],\n",
       "       [301., 300.,   1.,   0.,   0.,   0.],\n",
       "       [  0.,   0.,   0., 301., 300.,   1.],\n",
       "       [302., 300.,   1.,   0.,   0.,   0.],\n",
       "       [  0.,   0.,   0., 302., 300.,   1.]])"
      ]
     },
     "execution_count": 131,
     "metadata": {},
     "output_type": "execute_result"
    }
   ],
   "source": [
    "a"
   ]
  },
  {
   "cell_type": "code",
   "execution_count": 132,
   "metadata": {},
   "outputs": [
    {
     "data": {
      "text/plain": [
       "array([400, 350, 401, 350, 402, 350])"
      ]
     },
     "execution_count": 132,
     "metadata": {},
     "output_type": "execute_result"
    }
   ],
   "source": [
    "b"
   ]
  },
  {
   "cell_type": "code",
   "execution_count": 133,
   "metadata": {},
   "outputs": [
    {
     "data": {
      "text/plain": [
       "array([[ 1.00000000e+00, -1.00761905e+00,  4.02285714e+02],\n",
       "       [ 1.04368317e-14,  2.67281106e-03,  3.49198157e+02],\n",
       "       [ 0.00000000e+00,  0.00000000e+00,  1.00000000e+00]])"
      ]
     },
     "execution_count": 133,
     "metadata": {},
     "output_type": "execute_result"
    }
   ],
   "source": [
    "found_transform"
   ]
  },
  {
   "cell_type": "code",
   "execution_count": 164,
   "metadata": {},
   "outputs": [],
   "source": [
    "def Apply_Transformation_Two(img, transform_array):\n",
    "\n",
    "    # Initialize new image\n",
    "    new_img = np.zeros(shape=img.shape)\n",
    "\n",
    "    # Loop through coordinates and\n",
    "    # apply inverse transformation\n",
    "    for r in range(img.shape[0]):\n",
    "        for c in range(img.shape[1]):\n",
    "            current_coor = np.array([c, r, 1])\n",
    "            new_coor = np.matmul(transform_array, current_coor)\n",
    "            new_x = new_coor[0] / new_coor[2]\n",
    "            new_y = new_coor[1] / new_coor[2]\n",
    "            # Update new image if old coordinate\n",
    "            # is within the image coordinate bounds\n",
    "            if new_y < img.shape[0] and \\\n",
    "                new_x < img.shape[1] and \\\n",
    "                new_y > 0 and \\\n",
    "                new_x > 0:\n",
    "\n",
    "                    new_img[r, c] = img[int(new_y), int(new_x)]\n",
    "\n",
    "    return new_img"
   ]
  },
  {
   "cell_type": "code",
   "execution_count": 165,
   "metadata": {},
   "outputs": [
    {
     "data": {
      "text/plain": [
       "True"
      ]
     },
     "execution_count": 165,
     "metadata": {},
     "output_type": "execute_result"
    }
   ],
   "source": [
    "thingy = Apply_Transformation_Two(simple_image, found_transform)\n",
    "cv2.imwrite('part2-images/Simple_Affine_2.jpg', thingy)"
   ]
  },
  {
   "cell_type": "code",
   "execution_count": null,
   "metadata": {},
   "outputs": [],
   "source": [
    "[300, 300, 1]"
   ]
  },
  {
   "cell_type": "code",
   "execution_count": 74,
   "metadata": {},
   "outputs": [
    {
     "data": {
      "text/plain": [
       "array([ 1.00000000e+00, -1.00761905e+00,  4.02285714e+02,  1.04368317e-14,\n",
       "        2.67281106e-03,  3.49198157e+02])"
      ]
     },
     "execution_count": 74,
     "metadata": {},
     "output_type": "execute_result"
    }
   ],
   "source": [
    "one = np.array([\n",
    "    [300, 300, 1, 0, 0, 0], \n",
    "    [0, 0, 0, 300, 300, 1],\n",
    "    [301, 300, 1, 0, 0, 0], \n",
    "    [0, 0, 0, 301, 300, 1],\n",
    "    [302, 300, 1, 0, 0, 0],  \n",
    "    [0, 0, 0, 302, 300, 1],\n",
    "])\n",
    "\n",
    "two = np.array([400, 350, 401, 350, 402, 350])\n",
    "\n",
    "np.linalg.solve(one, two)"
   ]
  },
  {
   "cell_type": "code",
   "execution_count": 161,
   "metadata": {},
   "outputs": [
    {
     "data": {
      "text/plain": [
       "array([402., 350.,   1.])"
      ]
     },
     "execution_count": 161,
     "metadata": {},
     "output_type": "execute_result"
    }
   ],
   "source": [
    "t = np.linalg.solve(a, b)\n",
    "\n",
    "one_orig = np.array([\n",
    "        302, 300, 1\n",
    "    ])\n",
    "\n",
    "solved = np.array([\n",
    "    [t[0], t[1],  t[2]],\n",
    "    [t[3], t[4],  t[5]],\n",
    "    [0, 0, 1]\n",
    "])\n",
    "\n",
    "np.matmul(solved, one_orig)\n",
    "\n",
    "# print(solved)"
   ]
  },
  {
   "cell_type": "code",
   "execution_count": 142,
   "metadata": {},
   "outputs": [
    {
     "data": {
      "text/plain": [
       "array([402., 350.,   1.])"
      ]
     },
     "execution_count": 142,
     "metadata": {},
     "output_type": "execute_result"
    }
   ],
   "source": [
    "np.matmul(found_transform, one_orig)"
   ]
  },
  {
   "cell_type": "code",
   "execution_count": null,
   "metadata": {},
   "outputs": [],
   "source": []
  },
  {
   "cell_type": "code",
   "execution_count": null,
   "metadata": {},
   "outputs": [],
   "source": [
    "# “book1.jpg”: {(318, 256), (534, 372), (316, 670), (73, 473)}\n",
    "# “book2.jpg”: {(141, 131), (480, 159), (493, 630), (64, 601)}"
   ]
  },
  {
   "cell_type": "code",
   "execution_count": 143,
   "metadata": {},
   "outputs": [
    {
     "data": {
      "text/plain": [
       "array([ 1.09565576e+00,  8.35805984e-01, -1.29821725e+17,  1.29821725e+17,\n",
       "       -3.13446046e-01,  1.13811879e+00, -1.15486723e+18,  1.15486723e+18,\n",
       "        0.00000000e+00,  0.00000000e+00,  0.00000000e+00,  1.00000000e+00])"
      ]
     },
     "execution_count": 143,
     "metadata": {},
     "output_type": "execute_result"
    }
   ],
   "source": [
    "# one = np.array([\n",
    "#     [318, 256, 1, 1, 0, 0, 0, 0], \n",
    "#     [0, 0, 0, 0, 318, 256, 1, 1],\n",
    "#     [534, 372, 1, 1, 0, 0, 0, 0], \n",
    "#     [0, 0, 0, 0, 534, 372, 1, 1],\n",
    "#     [316, 670, 1, 1, 0, 0, 0, 0], \n",
    "#     [0, 0, 0, 0, 316, 670, 1, 1],\n",
    "#     [73, 473, 1, 1, 0, 0, 0, 0],  \n",
    "#     [0, 0, 0, 0, 73, 473, 1, 1],\n",
    "# ])\n",
    "\n",
    "# two = np.array([141, 131, 480, 159, 493, 630, 64, 601])\n",
    "\n",
    "# np.linalg.solve(one, two)\n",
    "\n",
    "one = np.array([\n",
    "    [318, 256, 1, 1, 0, 0, 0, 0, 0, 0, 0, 0], \n",
    "    [0, 0, 0, 0, 318, 256, 1, 1, 0, 0, 0, 0],\n",
    "    [0, 0, 0, 0, 0, 0, 0, 0, 318, 256, 1, 1],\n",
    "    [534, 372, 1, 1, 0, 0, 0, 0, 0, 0, 0, 0], \n",
    "    [0, 0, 0, 0, 534, 372, 1, 1, 0, 0, 0, 0], \n",
    "    [0, 0, 0, 0, 0, 0, 0, 0, 534, 372, 1, 1],\n",
    "    [316, 670, 1, 1, 0, 0, 0, 0, 0, 0, 0, 0], \n",
    "    [0, 0, 0, 0, 316, 670, 1, 1, 0, 0, 0, 0],\n",
    "    [0, 0, 0, 0, 0, 0, 0, 0, 316, 670, 1, 1],\n",
    "    [73, 473, 1, 1, 0, 0, 0, 0, 0, 0, 0, 0], \n",
    "    [0, 0, 0, 0, 73, 473, 1, 1, 0, 0, 0, 0],\n",
    "    [0, 0, 0, 0, 0, 0, 0, 0, 73, 473, 1, 1],\n",
    "])\n",
    "\n",
    "two = np.array([141, 131, 1, 480, 159, 1, 493, 630, 1, 64, 601, 1])\n",
    "\n",
    "np.linalg.solve(one, two)"
   ]
  },
  {
   "cell_type": "code",
   "execution_count": 155,
   "metadata": {},
   "outputs": [
    {
     "data": {
      "text/plain": [
       "array([ 1.09565576e+00,  8.35805984e-01, -1.29821725e+17,  1.29821725e+17,\n",
       "       -3.13446046e-01,  1.13811879e+00, -1.15486723e+18,  1.15486723e+18])"
      ]
     },
     "execution_count": 155,
     "metadata": {},
     "output_type": "execute_result"
    }
   ],
   "source": [
    "one = np.array([\n",
    "    [318, 256, 1, 1, 0, 0, 0, 0], \n",
    "    [0, 0, 0, 0, 318, 256, 1, 1],\n",
    "    [534, 372, 1, 1, 0, 0, 0, 0], \n",
    "    [0, 0, 0, 0, 534, 372, 1, 1], \n",
    "    [316, 670, 1, 1, 0, 0, 0, 0], \n",
    "    [0, 0, 0, 0, 316, 670, 1, 1],\n",
    "    [73, 473, 1, 1, 0, 0, 0, 0], \n",
    "    [0, 0, 0, 0, 73, 473, 1, 1],\n",
    "])\n",
    "\n",
    "two = np.array([141, 131, 480, 159, 493, 630, 64, 601])\n",
    "\n",
    "np.linalg.solve(one, two)"
   ]
  },
  {
   "cell_type": "code",
   "execution_count": 158,
   "metadata": {},
   "outputs": [],
   "source": [
    "t = np.linalg.solve(one, two)\n",
    "\n",
    "one_orig = np.array([\n",
    "        73, 473, 1\n",
    "    ])\n",
    "\n",
    "solved = np.array([\n",
    "    [t[0], t[1],  t[2]],\n",
    "    [t[3], t[4],  t[5]],\n",
    "    [t[6], t[7], 1]\n",
    "])\n",
    "\n",
    "out = np.matmul(solved, one_orig)"
   ]
  },
  {
   "cell_type": "code",
   "execution_count": 159,
   "metadata": {},
   "outputs": [
    {
     "data": {
      "text/plain": [
       "array([ 6.02508086e+19,  1.15486723e+18, -9.47698591e+18])"
      ]
     },
     "execution_count": 159,
     "metadata": {},
     "output_type": "execute_result"
    }
   ],
   "source": [
    "out"
   ]
  },
  {
   "cell_type": "code",
   "execution_count": 150,
   "metadata": {},
   "outputs": [
    {
     "data": {
      "text/plain": [
       "-0.00028103170847136843"
      ]
     },
     "execution_count": 150,
     "metadata": {},
     "output_type": "execute_result"
    }
   ],
   "source": [
    "out[0] / out[2]"
   ]
  },
  {
   "cell_type": "code",
   "execution_count": 13,
   "metadata": {},
   "outputs": [
    {
     "data": {
      "text/plain": [
       "True"
      ]
     },
     "execution_count": 13,
     "metadata": {},
     "output_type": "execute_result"
    }
   ],
   "source": [
    "simple_image = np.zeros(shape=(1024,1024,3))\n",
    "\n",
    "simple_image[700:900, 700] = 255\n",
    "simple_image[700:900, 900] = 255\n",
    "simple_image[700, 700:900] = 255\n",
    "simple_image[900, 700:900] = 255\n",
    "\n",
    "cv2.imwrite('part2-images/simple_img2.jpg', simple_image)"
   ]
  },
  {
   "cell_type": "code",
   "execution_count": 17,
   "metadata": {},
   "outputs": [],
   "source": [
    "first_corners = np.array([\n",
    "    [300, 300, 500, 500],\n",
    "    [300, 500, 300, 500],\n",
    "    [1, 1, 1]\n",
    "])\n",
    "\n",
    "second_corners = np.array([\n",
    "    [700, 700, 900, 900],\n",
    "    [700, 900, 700, 900],\n",
    "    [1, 1, 1]\n",
    "])"
   ]
  },
  {
   "cell_type": "code",
   "execution_count": null,
   "metadata": {},
   "outputs": [],
   "source": [
    "first_corners = np.array([\n",
    "    [300, 300, 1],\n",
    "    [0, 300, 1],\n",
    "    [0, 0, 1]\n",
    "])\n",
    "\n",
    "second_corners = np.array([700, 700, 1])"
   ]
  },
  {
   "cell_type": "code",
   "execution_count": 116,
   "metadata": {},
   "outputs": [],
   "source": [
    "first_corners = np.array([\n",
    "    [300, 0, 1],\n",
    "    [0, 300, 1],\n",
    "    [0, 0, 1]\n",
    "])\n",
    "\n",
    "second_corners = np.array([700, 700, 1])"
   ]
  },
  {
   "cell_type": "code",
   "execution_count": 120,
   "metadata": {},
   "outputs": [
    {
     "name": "stderr",
     "output_type": "stream",
     "text": [
      "C:\\Ed\\Anaconda\\lib\\site-packages\\ipykernel_launcher.py:1: FutureWarning: `rcond` parameter will change to the default of machine precision times ``max(M, N)`` where M and N are the input matrix dimensions.\n",
      "To use the future default and silence this warning we advise to pass `rcond=None`, to keep using the old, explicitly pass `rcond=-1`.\n",
      "  \"\"\"Entry point for launching an IPython kernel.\n"
     ]
    }
   ],
   "source": [
    "ans = np.linalg.solve(first_corners, second_corners)"
   ]
  },
  {
   "cell_type": "code",
   "execution_count": 119,
   "metadata": {},
   "outputs": [
    {
     "data": {
      "text/plain": [
       "array([2.33, 2.33, 1.  ])"
      ]
     },
     "execution_count": 119,
     "metadata": {},
     "output_type": "execute_result"
    }
   ],
   "source": [
    "ans"
   ]
  },
  {
   "cell_type": "code",
   "execution_count": 115,
   "metadata": {},
   "outputs": [
    {
     "ename": "ValueError",
     "evalue": "matmul: Input operand 1 does not have enough dimensions (has 0, gufunc core with signature (n?,k),(k,m?)->(n?,m?) requires 1)",
     "output_type": "error",
     "traceback": [
      "\u001b[1;31m---------------------------------------------------------------------------\u001b[0m",
      "\u001b[1;31mValueError\u001b[0m                                Traceback (most recent call last)",
      "\u001b[1;32m<ipython-input-115-e559947de260>\u001b[0m in \u001b[0;36m<module>\u001b[1;34m\u001b[0m\n\u001b[1;32m----> 1\u001b[1;33m \u001b[0mnp\u001b[0m\u001b[1;33m.\u001b[0m\u001b[0mmatmul\u001b[0m\u001b[1;33m(\u001b[0m\u001b[0mfirst_corners\u001b[0m\u001b[1;33m[\u001b[0m\u001b[1;36m0\u001b[0m\u001b[1;33m]\u001b[0m\u001b[1;33m,\u001b[0m \u001b[0mans\u001b[0m\u001b[1;33m[\u001b[0m\u001b[1;36m0\u001b[0m\u001b[1;33m]\u001b[0m\u001b[1;33m)\u001b[0m\u001b[1;33m\u001b[0m\u001b[1;33m\u001b[0m\u001b[0m\n\u001b[0m",
      "\u001b[1;31mValueError\u001b[0m: matmul: Input operand 1 does not have enough dimensions (has 0, gufunc core with signature (n?,k),(k,m?)->(n?,m?) requires 1)"
     ]
    }
   ],
   "source": [
    "np.matmul(first_corners[0], ans[0])"
   ]
  },
  {
   "cell_type": "code",
   "execution_count": 89,
   "metadata": {},
   "outputs": [
    {
     "data": {
      "text/plain": [
       "array([  0, 500,   1])"
      ]
     },
     "execution_count": 89,
     "metadata": {},
     "output_type": "execute_result"
    }
   ],
   "source": [
    "first_corners[1]"
   ]
  },
  {
   "cell_type": "code",
   "execution_count": 90,
   "metadata": {},
   "outputs": [
    {
     "data": {
      "text/plain": [
       "array([2.33329541, 1.79997724, 0.01137761])"
      ]
     },
     "execution_count": 90,
     "metadata": {},
     "output_type": "execute_result"
    }
   ],
   "source": [
    "ans[0]"
   ]
  },
  {
   "cell_type": "code",
   "execution_count": null,
   "metadata": {},
   "outputs": [],
   "source": []
  },
  {
   "cell_type": "code",
   "execution_count": null,
   "metadata": {},
   "outputs": [],
   "source": [
    "# Translation\n",
    "input_matrix = np.array([\n",
    "    [300, 300, 1]\n",
    "])\n",
    "\n",
    "output_matrix = np.array([\n",
    "    [700, 700, 1]\n",
    "])\n",
    "\n",
    "# Euclidean\n",
    "input_matrix = np.array([\n",
    "    [300, 300, 1],\n",
    "    [300, 500, 1]\n",
    "])\n",
    "\n",
    "output_matrix = np.array([\n",
    "    [700, 700, 1],\n",
    "    [800, 950, 1]\n",
    "])\n",
    "\n",
    "# Affine\n",
    "input_matrix = np.array([\n",
    "    [300, 300, 1],\n",
    "    [300, 500, 1],\n",
    "    [500, 500, 1]\n",
    "])\n",
    "\n",
    "output_matrix = np.array([\n",
    "    [700, 700, 1],\n",
    "    [800, 875, 1],\n",
    "    []\n",
    "])"
   ]
  }
 ],
 "metadata": {
  "interpreter": {
   "hash": "80f562c4332a1b652b43abc3f6dc8822e0539e2ff14e2e1d70aad5b28f23c7c5"
  },
  "kernelspec": {
   "display_name": "Python 3.7.6 ('base')",
   "language": "python",
   "name": "python3"
  },
  "language_info": {
   "codemirror_mode": {
    "name": "ipython",
    "version": 3
   },
   "file_extension": ".py",
   "mimetype": "text/x-python",
   "name": "python",
   "nbconvert_exporter": "python",
   "pygments_lexer": "ipython3",
   "version": "3.7.6"
  },
  "orig_nbformat": 4
 },
 "nbformat": 4,
 "nbformat_minor": 2
}
