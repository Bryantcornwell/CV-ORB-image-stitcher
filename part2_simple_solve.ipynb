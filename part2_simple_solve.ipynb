{
 "cells": [
  {
   "cell_type": "code",
   "execution_count": 20,
   "metadata": {},
   "outputs": [],
   "source": [
    "import cv2\n",
    "import numpy as np"
   ]
  },
  {
   "cell_type": "code",
   "execution_count": 21,
   "metadata": {},
   "outputs": [],
   "source": [
    "translation_matches = [\n",
    "    [(300, 300), (400, 500)]\n",
    "]\n",
    "\n",
    "translation_matches_test = [\n",
    "    [(401, 300), (501, 500)]\n",
    "]\n",
    "\n",
    "euclidean_matches = [\n",
    "    [(487, 300), (555, 25)], \n",
    "    [(500, 319), (575, 35)]\n",
    "]\n",
    "\n",
    "euclidean_matches_test = [\n",
    "    [(434, 300), (510, 50)]\n",
    "]\n",
    "\n",
    "affine_matches = [\n",
    "    [(300, 300), (400, 350)],\n",
    "    [(401, 300), (501, 350)],\n",
    "    [(300, 302), (398, 351)]\n",
    "]\n",
    "\n",
    "affine_matches_test = [\n",
    "    [(500, 302), (598, 351)]\n",
    "]\n",
    "\n",
    "projection_matches = [\n",
    "    [(318, 256), (141, 131)],\n",
    "    [(534, 372), (480, 159)],\n",
    "    [(316, 670), (493, 630)],\n",
    "    [(73, 473), (64, 601)]\n",
    "]"
   ]
  },
  {
   "cell_type": "code",
   "execution_count": 100,
   "metadata": {},
   "outputs": [],
   "source": [
    "def get_translation_matrix(point_pairs):\n",
    "\n",
    "    a = point_pairs[0][1][0] - point_pairs[0][0][0]\n",
    "    b = point_pairs[0][1][1] - point_pairs[0][0][1]\n",
    "\n",
    "    transition_matrix = np.array([[1, 0, a],\n",
    "                                   [0, 1, b],\n",
    "                                   [0, 0, 1]])\n",
    "\n",
    "    return transition_matrix\n",
    "\n",
    "def get_euclidean_matrix(point_pairs):\n",
    "\n",
    "    solution_matrix = []\n",
    "    solution_vector = []\n",
    "    for pair in point_pairs:\n",
    "        x, y = pair[0]\n",
    "        x_, y_ = pair[1]\n",
    "\n",
    "        solution_matrix += [[x, -1 * y, 1, 0],\n",
    "                            [y,      x, 0, 1]]\n",
    "        solution_vector += [x_, y_]\n",
    "\n",
    "    solution_matrix = np.array(solution_matrix)\n",
    "    solution_vector = np.array(solution_vector)\n",
    "\n",
    "    a, b, c, d = np.linalg.solve(solution_matrix, solution_vector)\n",
    "\n",
    "    transition_matrix = np.array([[a, -b, c],\n",
    "                                  [b,  a, d],\n",
    "                                  [0,  0, 1]])\n",
    "    return transition_matrix\n",
    "\n",
    "def get_affine_matrix(point_pairs):\n",
    "\n",
    "    solution_matrix = []\n",
    "    solution_vector = []\n",
    "    for pair in point_pairs:\n",
    "        x, y = pair[0]\n",
    "        x_, y_ = pair[1]\n",
    "\n",
    "        solution_matrix += [[x, y, 1, 0, 0, 0],\n",
    "                            [0, 0, 0, x, y, 1]]\n",
    "        solution_vector += [x_, y_]\n",
    "\n",
    "    solution_matrix = np.array(solution_matrix)\n",
    "    solution_vector = np.array(solution_vector)\n",
    "\n",
    "    a, b, c, d, e, f = np.linalg.solve(solution_matrix, solution_vector)\n",
    "\n",
    "    transition_matrix = np.array([[a, b, c],\n",
    "                                  [d, e, f],\n",
    "                                  [0,  0, 1]])\n",
    "    return transition_matrix\n",
    "\n",
    "def get_projection_matrix(point_pairs):\n",
    "\n",
    "    solution_matrix = []\n",
    "    solution_vector = []\n",
    "    for index, pair in enumerate(point_pairs):\n",
    "        x, y = pair[0]\n",
    "        x_, y_ = pair[1]\n",
    "\n",
    "        z_x = [0, 0, 0, 0]\n",
    "        z_y = [0, 0, 0, 0]\n",
    "        z_1 = [0, 0, 0, 0]\n",
    "        z_x[index], z_y[index], z_1[index] = -x_, -y_, -1\n",
    "\n",
    "        solution_matrix += [[x, y, 1, 0, 0, 0, 0, 0] + z_x,\n",
    "                            [0, 0, 0, x, y, 1, 0, 0] + z_y,\n",
    "                            [0, 0, 0, 0, 0, 0, x, y] + z_1]\n",
    "        solution_vector += [0, 0, -1]\n",
    "\n",
    "    solution_matrix = np.array(solution_matrix)\n",
    "    solution_vector = np.array(solution_vector)\n",
    "\n",
    "    a, b, c, d, e, f, g, h, _, _, _, _ = np.linalg.solve(solution_matrix, solution_vector)\n",
    "\n",
    "    transition_matrix = np.array([[a, b, c],\n",
    "                                  [d, e, f],\n",
    "                                  [g, h, 1]])\n",
    "    return transition_matrix\n",
    "\n",
    "def get_transition_matrix(point_pairs):\n",
    "\n",
    "    if len(point_pairs) == 1:\n",
    "        return get_translation_matrix(point_pairs)\n",
    "    elif len(point_pairs) == 2:\n",
    "        return get_euclidean_matrix(point_pairs)\n",
    "    elif len(point_pairs) == 3:\n",
    "        return get_affine_matrix(point_pairs)\n",
    "    elif len(point_pairs) == 4:\n",
    "        return get_projection_matrix(point_pairs)\n",
    "    else:\n",
    "        raise Exception(f'Received {len(point_pairs)}. get_transition matrix requires 1, 2, 3, or 4 pairs of points.')"
   ]
  },
  {
   "cell_type": "code",
   "execution_count": 101,
   "metadata": {},
   "outputs": [],
   "source": [
    "def convert_vector(x):\n",
    "\n",
    "    x = list(x) + [1]\n",
    "    return np.array(x)"
   ]
  },
  {
   "cell_type": "code",
   "execution_count": 114,
   "metadata": {},
   "outputs": [],
   "source": [
    "def test_transition_matrix(transition_matrix, pairs):\n",
    "    \n",
    "    result = True\n",
    "    for pair in pairs: \n",
    "        x, b = map(convert_vector, pair)\n",
    "\n",
    "        Ax = np.matmul(transition_matrix, x)\n",
    "        # Divide by z_ to get back to (x_, y_, 1) space.\n",
    "        Ax = np.rint(Ax / Ax[2])\n",
    "        result *= (Ax == b).all()\n",
    "\n",
    "    return result"
   ]
  },
  {
   "cell_type": "code",
   "execution_count": 115,
   "metadata": {},
   "outputs": [
    {
     "data": {
      "text/plain": [
       "array([[ 1.00000000e+00, -1.00000000e+00,  4.00000000e+02],\n",
       "       [ 1.41754162e-16,  5.00000000e-01,  2.00000000e+02],\n",
       "       [ 0.00000000e+00,  0.00000000e+00,  1.00000000e+00]])"
      ]
     },
     "execution_count": 115,
     "metadata": {},
     "output_type": "execute_result"
    }
   ],
   "source": [
    "t = get_transition_matrix(affine_matches)\n",
    "t"
   ]
  },
  {
   "cell_type": "code",
   "execution_count": 116,
   "metadata": {},
   "outputs": [
    {
     "data": {
      "text/plain": [
       "array([[ 1.80258009e+00,  1.55276411e+00, -7.76398173e+02],\n",
       "       [-8.09994414e-01,  2.13295256e+00, -1.07909987e+02],\n",
       "       [ 5.79313440e-04,  7.57830547e-04,  1.00000000e+00]])"
      ]
     },
     "execution_count": 116,
     "metadata": {},
     "output_type": "execute_result"
    }
   ],
   "source": [
    "T = get_transition_matrix(projection_matches)\n",
    "T"
   ]
  },
  {
   "cell_type": "code",
   "execution_count": 117,
   "metadata": {},
   "outputs": [
    {
     "name": "stdout",
     "output_type": "stream",
     "text": [
      "[141. 131.   1.] [318 256   1] [141 131   1]\n",
      "[480. 159.   1.] [534 372   1] [480 159   1]\n",
      "[493. 630.   1.] [316 670   1] [493 630   1]\n",
      "[ 64. 601.   1.] [ 73 473   1] [ 64 601   1]\n"
     ]
    },
    {
     "data": {
      "text/plain": [
       "True"
      ]
     },
     "execution_count": 117,
     "metadata": {},
     "output_type": "execute_result"
    }
   ],
   "source": [
    "test_transition_matrix(T, projection_matches)"
   ]
  },
  {
   "cell_type": "code",
   "execution_count": 93,
   "metadata": {},
   "outputs": [
    {
     "data": {
      "text/plain": [
       "True"
      ]
     },
     "execution_count": 93,
     "metadata": {},
     "output_type": "execute_result"
    }
   ],
   "source": [
    "test_transition_matrix(t, affine_matches_test + affine_matches)"
   ]
  },
  {
   "cell_type": "code",
   "execution_count": 69,
   "metadata": {},
   "outputs": [
    {
     "data": {
      "text/plain": [
       "True"
      ]
     },
     "execution_count": 69,
     "metadata": {},
     "output_type": "execute_result"
    }
   ],
   "source": [
    "(np.array([400., 350., 1.]) == np.array([400, 350, 1])).all()"
   ]
  },
  {
   "cell_type": "code",
   "execution_count": 50,
   "metadata": {},
   "outputs": [
    {
     "data": {
      "text/plain": [
       "1"
      ]
     },
     "execution_count": 50,
     "metadata": {},
     "output_type": "execute_result"
    }
   ],
   "source": []
  },
  {
   "cell_type": "code",
   "execution_count": 33,
   "metadata": {},
   "outputs": [
    {
     "data": {
      "text/plain": [
       "[[(500, 302), (598, 351)]]"
      ]
     },
     "execution_count": 33,
     "metadata": {},
     "output_type": "execute_result"
    }
   ],
   "source": [
    "affine_matches_test"
   ]
  },
  {
   "cell_type": "code",
   "execution_count": 22,
   "metadata": {},
   "outputs": [],
   "source": [
    "simple_img = cv2.imread('part2-images/Simple.jpg')"
   ]
  },
  {
   "cell_type": "code",
   "execution_count": null,
   "metadata": {},
   "outputs": [],
   "source": []
  },
  {
   "cell_type": "code",
   "execution_count": 23,
   "metadata": {},
   "outputs": [],
   "source": [
    "def Apply_Transformation_Two(img, transform_array):\n",
    "\n",
    "    # Initialize new image\n",
    "    new_img = np.zeros(shape=img.shape)\n",
    "\n",
    "    # Loop through coordinates and\n",
    "    # apply inverse transformation\n",
    "    for r in range(img.shape[0]):\n",
    "        for c in range(img.shape[1]):\n",
    "            current_coor = np.array([[c, r, 1]])\n",
    "            new_coor = np.matmul(current_coor, transform_array)\n",
    "            new_x = new_coor[0] / new_coor[2]\n",
    "            new_y = new_coor[1] / new_coor[2]\n",
    "            # Update new image if old coordinate\n",
    "            # is within the image coordinate bounds\n",
    "            if new_y < img.shape[0] and \\\n",
    "                new_x < img.shape[1] and \\\n",
    "                new_y > 0 and \\\n",
    "                new_x > 0:\n",
    "\n",
    "                    new_img[r, c] = img[int(new_y), int(new_x)]\n",
    "\n",
    "    return new_img"
   ]
  },
  {
   "cell_type": "code",
   "execution_count": 24,
   "metadata": {},
   "outputs": [
    {
     "name": "stdout",
     "output_type": "stream",
     "text": [
      "Linear Equation Array:\n",
      "[[300   0]\n",
      " [  0 300]]\n",
      "\n",
      "Equation Output:\n",
      "[400 500]\n",
      "\n",
      "Equation Solved:\n",
      "[1.33333333 1.66666667]\n",
      "\n",
      "Transfrom Matrix:\n",
      "[[1.33333333 0.         0.        ]\n",
      " [0.         1.66666667 0.        ]\n",
      " [0.         0.         1.        ]]\n",
      "\n",
      "Test: (534.6666666666666, 500.0) = (501, 500)\n"
     ]
    }
   ],
   "source": [
    "translation_input = np.array([\n",
    "    [translation_matches[0][0][0], 0],\n",
    "    [0, translation_matches[0][0][1]]\n",
    "])\n",
    "\n",
    "print('Linear Equation Array:')\n",
    "print(translation_input)\n",
    "print()\n",
    "\n",
    "translation_output = np.array([\n",
    "    translation_matches[0][1][0], translation_matches[0][1][1]\n",
    "])\n",
    "\n",
    "print('Equation Output:')\n",
    "print(translation_output)\n",
    "print()\n",
    "\n",
    "translation_solved = np.linalg.solve(translation_input, translation_output)\n",
    "\n",
    "print('Equation Solved:')\n",
    "print(translation_solved)\n",
    "print()\n",
    "\n",
    "translation_transform = np.array([\n",
    "    [translation_solved[0], 0, 0],\n",
    "    [0, translation_solved[1], 0],\n",
    "    [0, 0, 1]\n",
    "])\n",
    "\n",
    "print('Transfrom Matrix:')\n",
    "print(translation_transform)\n",
    "print()\n",
    "\n",
    "translation_original = np.array([\n",
    "    translation_matches_test[0][0][0], translation_matches_test[0][0][1], 1\n",
    "])\n",
    "\n",
    "translation_new = np.matmul(translation_original, translation_transform)\n",
    "\n",
    "print(f'Test: ({translation_new[0] / translation_new[2]}, {translation_new[1] / translation_new[2]}) = {translation_matches_test[0][1]}')"
   ]
  },
  {
   "cell_type": "code",
   "execution_count": 25,
   "metadata": {},
   "outputs": [
    {
     "name": "stdout",
     "output_type": "stream",
     "text": [
      "Linear Equation Array:\n",
      "[[487 300   0   0]\n",
      " [  0   0 487 300]\n",
      " [500 319   0   0]\n",
      " [  0   0 500 319]]\n",
      "\n",
      "Equation Output:\n",
      "[555  25 575  35]\n",
      "\n",
      "Equation Solved:\n",
      "[ 0.8490566   0.47169811 -0.47169811  0.8490566 ]\n",
      "\n",
      "Transfrom Matrix:\n",
      "[[ 0.8490566   0.47169811  0.        ]\n",
      " [-0.47169811  0.8490566   0.        ]\n",
      " [ 0.          0.          1.        ]]\n",
      "\n",
      "Test: (226.98113207547345, 459.43396226414825) = (510, 50)\n"
     ]
    }
   ],
   "source": [
    "euclidean_input = np.array([\n",
    "    [euclidean_matches[0][0][0], euclidean_matches[0][0][1], 0, 0],\n",
    "    [0, 0, euclidean_matches[0][0][0], euclidean_matches[0][0][1]],\n",
    "    [euclidean_matches[1][0][0], euclidean_matches[1][0][1], 0, 0],\n",
    "    [0, 0, euclidean_matches[1][0][0], euclidean_matches[1][0][1]],\n",
    "])\n",
    "\n",
    "print('Linear Equation Array:')\n",
    "print(euclidean_input)\n",
    "print()\n",
    "\n",
    "euclidean_output = np.array([\n",
    "    euclidean_matches[0][1][0], euclidean_matches[0][1][1], euclidean_matches[1][1][0], euclidean_matches[1][1][1]\n",
    "])\n",
    "\n",
    "print('Equation Output:')\n",
    "print(euclidean_output)\n",
    "print()\n",
    "\n",
    "euclidean_solved = np.linalg.solve(euclidean_input, euclidean_output)\n",
    "\n",
    "print('Equation Solved:')\n",
    "print(euclidean_solved)\n",
    "print()\n",
    "\n",
    "euclidean_transform = np.array([\n",
    "    [euclidean_solved[0], euclidean_solved[1], 0],\n",
    "    [euclidean_solved[2], euclidean_solved[3], 0],\n",
    "    [0, 0, 1]\n",
    "])\n",
    "\n",
    "print('Transfrom Matrix:')\n",
    "print(euclidean_transform)\n",
    "print()\n",
    "\n",
    "euclidean_original = np.array([\n",
    "    [euclidean_matches_test[0][0][0], euclidean_matches_test[0][0][1], 1],\n",
    "])\n",
    "\n",
    "euclidean_new = np.matmul(euclidean_original[0], euclidean_transform)\n",
    "\n",
    "print(f'Test: ({euclidean_new[0] / euclidean_new[2]}, {euclidean_new[1] / euclidean_new[2]}) = {euclidean_matches_test[0][1]}')"
   ]
  },
  {
   "cell_type": "code",
   "execution_count": 26,
   "metadata": {},
   "outputs": [
    {
     "name": "stdout",
     "output_type": "stream",
     "text": [
      "Linear Equation Array:\n",
      "[[300 300   1   0   0   0]\n",
      " [  0   0   0 300 300   1]\n",
      " [401 300   1   0   0   0]\n",
      " [  0   0   0 401 300   1]\n",
      " [300 302   1   0   0   0]\n",
      " [  0   0   0 300 302   1]]\n",
      "\n",
      "Equation Output:\n",
      "[400 350 501 350 398 351]\n",
      "\n",
      "Equation Solved:\n",
      "[ 1.00000000e+00 -1.00000000e+00  4.00000000e+02  1.41754162e-16\n",
      "  5.00000000e-01  2.00000000e+02]\n",
      "\n",
      "Transfrom Matrix:\n",
      "[[ 1.00000000e+00 -1.00000000e+00  0.00000000e+00]\n",
      " [ 4.00000000e+02  1.41754162e-16  0.00000000e+00]\n",
      " [ 0.00000000e+00  0.00000000e+00  1.00000000e+00]]\n",
      "\n",
      "Test: (121300.00000000065, -500.0000000000037) = (598, 351)\n"
     ]
    }
   ],
   "source": [
    "affine_input = np.array([\n",
    "    [affine_matches[0][0][0], affine_matches[0][0][1], 1, 0, 0, 0],\n",
    "    [0, 0, 0, affine_matches[0][0][0], affine_matches[0][0][1], 1],\n",
    "    [affine_matches[1][0][0], affine_matches[1][0][1], 1, 0, 0, 0],\n",
    "    [0, 0, 0, affine_matches[1][0][0], affine_matches[1][0][1], 1],\n",
    "    [affine_matches[2][0][0], affine_matches[2][0][1], 1, 0, 0, 0],\n",
    "    [0, 0, 0, affine_matches[2][0][0], affine_matches[2][0][1], 1],\n",
    "])\n",
    "\n",
    "print('Linear Equation Array:')\n",
    "print(affine_input)\n",
    "print()\n",
    "\n",
    "affine_output = np.array([\n",
    "    affine_matches[0][1][0], affine_matches[0][1][1], affine_matches[1][1][0], affine_matches[1][1][1], affine_matches[2][1][0], affine_matches[2][1][1]\n",
    "])\n",
    "\n",
    "print('Equation Output:')\n",
    "print(affine_output)\n",
    "print()\n",
    "\n",
    "affine_solved = np.linalg.solve(affine_input, affine_output)\n",
    "\n",
    "print('Equation Solved:')\n",
    "print(affine_solved)\n",
    "print()\n",
    "\n",
    "affine_transform = np.array([\n",
    "    [affine_solved[0], affine_solved[1], 0],\n",
    "    [affine_solved[2], affine_solved[3], 0],\n",
    "    [0, 0, 1]\n",
    "])\n",
    "\n",
    "print('Transfrom Matrix:')\n",
    "print(affine_transform)\n",
    "print()\n",
    "\n",
    "affine_original = np.array([\n",
    "    [affine_matches_test[0][0][0], affine_matches_test[0][0][1], 1],\n",
    "])\n",
    "\n",
    "affine_new = np.matmul(affine_original[0], affine_transform)\n",
    "\n",
    "print(f'Test: ({affine_new[0] / affine_new[2]}, {affine_new[1] / affine_new[2]}) = {affine_matches_test[0][1]}')"
   ]
  },
  {
   "cell_type": "code",
   "execution_count": null,
   "metadata": {},
   "outputs": [],
   "source": []
  }
 ],
 "metadata": {
  "interpreter": {
   "hash": "80f562c4332a1b652b43abc3f6dc8822e0539e2ff14e2e1d70aad5b28f23c7c5"
  },
  "kernelspec": {
   "display_name": "Python 3.7.6 ('base')",
   "language": "python",
   "name": "python3"
  },
  "language_info": {
   "codemirror_mode": {
    "name": "ipython",
    "version": 3
   },
   "file_extension": ".py",
   "mimetype": "text/x-python",
   "name": "python",
   "nbconvert_exporter": "python",
   "pygments_lexer": "ipython3",
   "version": "3.10.3"
  },
  "orig_nbformat": 4
 },
 "nbformat": 4,
 "nbformat_minor": 2
}
