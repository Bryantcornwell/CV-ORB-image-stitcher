{
 "cells": [
  {
   "cell_type": "code",
   "execution_count": 206,
   "metadata": {},
   "outputs": [],
   "source": [
    "import cv2\n",
    "import numpy as np"
   ]
  },
  {
   "cell_type": "code",
   "execution_count": 207,
   "metadata": {},
   "outputs": [],
   "source": [
    "translation_matches = [[(371, 349), (471, 549)],\n",
    " [(467, 187), (567, 387)],\n",
    " [(644, 182), (744, 382)],\n",
    " [(625, 790), (725, 990)],\n",
    " [(456, 450), (556, 650)],\n",
    " [(256, 445), (356, 645)],\n",
    " [(508, 509), (608, 709)],\n",
    " [(300, 83), (400, 283)],\n",
    " [(325, 573), (425, 773)],\n",
    " [(449, 339), (549, 539)]]\n",
    "\n",
    "translation_matches, translation_matches_test = translation_matches[0], translation_matches[1:]\n",
    "\n",
    "euclidean_matches = [[(636, 788), (912, 369)],\n",
    " [(572, 891), (906, 487)],\n",
    " [(166, 898), (565, 684)],\n",
    " [(612, 751), (874, 349)],\n",
    " [(768, 666), (966, 203)],\n",
    " [(626, 961), (985, 521)],\n",
    " [(528, 428), (650, 115)],\n",
    " [(487, 923), (849, 554)],\n",
    " [(168, 892), (563, 678)],\n",
    " [(96, 701), (412, 550)]]\n",
    "\n",
    "euclidean_matches, euclidean_matches_test = euclidean_matches[0:2], euclidean_matches[2:]\n",
    "\n",
    "affine_matches = [[(388, 416), (372, 408)],\n",
    " [(604, 54), (950, 227)],\n",
    " [(712, 896), (216, 648)],\n",
    " [(898, 554), (744, 477)],\n",
    " [(614, 120), (894, 260)],\n",
    " [(554, 118), (836, 259)],\n",
    " [(996, 516), (880, 458)],\n",
    " [(271, 276), (395, 338)],\n",
    " [(693, 154), (939, 277)],\n",
    " [(468, 786), (82, 593)]]\n",
    "\n",
    "affine_matches, affine_matches_test = affine_matches[0:3], affine_matches[3:]\n",
    "\n",
    "projection_matches = [[(778, 358), (699, 632)],\n",
    " [(575, 285), (551, 485)],\n",
    " [(637, 147), (670, 423)],\n",
    " [(888, 628), (667, 916)],\n",
    " [(409, 828), (157, 756)],\n",
    " [(355, 387), (339, 460)],\n",
    " [(653, 889), (296, 952)],\n",
    " [(879, 705), (612, 975)],\n",
    " [(534, 860), (223, 851)],\n",
    " [(553, 328), (512, 503)]]\n",
    "\n",
    "projection_matches, projection_matches_test = projection_matches[0:4], projection_matches[4:]\n"
   ]
  },
  {
   "cell_type": "code",
   "execution_count": 208,
   "metadata": {},
   "outputs": [],
   "source": [
    "def get_translation_matrix(point_pairs):\n",
    "\n",
    "    a = point_pairs[0][1][0] - point_pairs[0][0][0]\n",
    "    b = point_pairs[0][1][1] - point_pairs[0][0][1]\n",
    "\n",
    "    transition_matrix = np.array([[1, 0, a],\n",
    "                                   [0, 1, b],\n",
    "                                   [0, 0, 1]])\n",
    "\n",
    "    return transition_matrix\n",
    "\n",
    "def get_euclidean_matrix(point_pairs):\n",
    "\n",
    "    solution_matrix = []\n",
    "    solution_vector = []\n",
    "    for pair in point_pairs:\n",
    "        x, y = pair[0]\n",
    "        x_, y_ = pair[1]\n",
    "\n",
    "        solution_matrix += [[x, -1 * y, 1, 0],\n",
    "                            [y,      x, 0, 1]]\n",
    "        solution_vector += [x_, y_]\n",
    "\n",
    "    solution_matrix = np.array(solution_matrix)\n",
    "    solution_vector = np.array(solution_vector)\n",
    "\n",
    "    a, b, c, d = np.linalg.solve(solution_matrix, solution_vector)\n",
    "\n",
    "    transition_matrix = np.array([[a, -b, c],\n",
    "                                  [b,  a, d],\n",
    "                                  [0,  0, 1]])\n",
    "    return transition_matrix\n",
    "\n",
    "def get_affine_matrix(point_pairs):\n",
    "\n",
    "    solution_matrix = []\n",
    "    solution_vector = []\n",
    "    for pair in point_pairs:\n",
    "        x, y = pair[0]\n",
    "        x_, y_ = pair[1]\n",
    "\n",
    "        solution_matrix += [[x, y, 1, 0, 0, 0],\n",
    "                            [0, 0, 0, x, y, 1]]\n",
    "        solution_vector += [x_, y_]\n",
    "\n",
    "    solution_matrix = np.array(solution_matrix)\n",
    "    solution_vector = np.array(solution_vector)\n",
    "\n",
    "    a, b, c, d, e, f = np.linalg.solve(solution_matrix, solution_vector)\n",
    "\n",
    "    transition_matrix = np.array([[a, b, c],\n",
    "                                  [d, e, f],\n",
    "                                  [0,  0, 1]])\n",
    "    return transition_matrix\n",
    "\n",
    "def get_projection_matrix(point_pairs):\n",
    "\n",
    "    solution_matrix = []\n",
    "    solution_vector = []\n",
    "    for index, pair in enumerate(point_pairs):\n",
    "        x, y = pair[0]\n",
    "        x_, y_ = pair[1]\n",
    "\n",
    "        z_x = [0, 0, 0, 0]\n",
    "        z_y = [0, 0, 0, 0]\n",
    "        z_1 = [0, 0, 0, 0]\n",
    "        z_x[index], z_y[index], z_1[index] = -x_, -y_, -1\n",
    "\n",
    "        solution_matrix += [[x, y, 1, 0, 0, 0, 0, 0] + z_x,\n",
    "                            [0, 0, 0, x, y, 1, 0, 0] + z_y,\n",
    "                            [0, 0, 0, 0, 0, 0, x, y] + z_1]\n",
    "        solution_vector += [0, 0, -1]\n",
    "\n",
    "    solution_matrix = np.array(solution_matrix)\n",
    "    print(solution_matrix)\n",
    "    solution_vector = np.array(solution_vector)\n",
    "    print(solution_vector)\n",
    "\n",
    "    a, b, c, d, e, f, g, h, _, _, _, _ = np.linalg.solve(solution_matrix, solution_vector)\n",
    "\n",
    "    transition_matrix = np.array([[a, b, c],\n",
    "                                  [d, e, f],\n",
    "                                  [g, h, 1]])\n",
    "    return transition_matrix\n",
    "\n",
    "def get_transition_matrix(point_pairs):\n",
    "\n",
    "    if len(point_pairs) == 1:\n",
    "        return get_translation_matrix(point_pairs)\n",
    "    elif len(point_pairs) == 2:\n",
    "        return get_euclidean_matrix(point_pairs)\n",
    "    elif len(point_pairs) == 3:\n",
    "        return get_affine_matrix(point_pairs)\n",
    "    elif len(point_pairs) == 4:\n",
    "        return get_projection_matrix(point_pairs)\n",
    "    else:\n",
    "        raise Exception(f'Received {len(point_pairs)}. get_transition matrix requires 1, 2, 3, or 4 pairs of points.')"
   ]
  },
  {
   "cell_type": "code",
   "execution_count": 209,
   "metadata": {},
   "outputs": [],
   "source": [
    "def convert_vector(x):\n",
    "\n",
    "    x = list(x) + [1]\n",
    "    return np.array(x)"
   ]
  },
  {
   "cell_type": "code",
   "execution_count": 210,
   "metadata": {},
   "outputs": [],
   "source": [
    "@np.vectorize\n",
    "def round_the_right_fucking_way_please(x):\n",
    "\n",
    "    if x % 1 == 0.5:\n",
    "        x += 0.001\n",
    "    \n",
    "    return np.rint(x)\n",
    "\n",
    "def test_transition_matrix(transition_matrix, pairs):\n",
    "    \n",
    "    result = True\n",
    "    for pair in pairs: \n",
    "        x, b = map(convert_vector, pair)\n",
    "\n",
    "        Ax = np.matmul(transition_matrix, x)\n",
    "        # Divide by z_ to get back to (x_, y_, 1) space.\n",
    "        Ax = Ax / Ax[2]\n",
    "        Ax = round_the_right_fucking_way_please(Ax).astype(int)\n",
    "        print(Ax, b)\n",
    "        result *= (Ax == b).all()\n",
    "\n",
    "    return result"
   ]
  },
  {
   "cell_type": "code",
   "execution_count": 211,
   "metadata": {},
   "outputs": [
    {
     "data": {
      "text/plain": [
       "array([[  1. ,  -1. , 400. ],\n",
       "       [  0. ,   0.5, 200. ],\n",
       "       [  0. ,   0. ,   1. ]])"
      ]
     },
     "execution_count": 211,
     "metadata": {},
     "output_type": "execute_result"
    }
   ],
   "source": [
    "t = get_transition_matrix(affine_matches)\n",
    "t"
   ]
  },
  {
   "cell_type": "code",
   "execution_count": 212,
   "metadata": {},
   "outputs": [
    {
     "name": "stdout",
     "output_type": "stream",
     "text": [
      "[[ 778  358    1    0    0    0    0    0 -699    0    0    0]\n",
      " [   0    0    0  778  358    1    0    0 -632    0    0    0]\n",
      " [   0    0    0    0    0    0  778  358   -1    0    0    0]\n",
      " [ 575  285    1    0    0    0    0    0    0 -551    0    0]\n",
      " [   0    0    0  575  285    1    0    0    0 -485    0    0]\n",
      " [   0    0    0    0    0    0  575  285    0   -1    0    0]\n",
      " [ 637  147    1    0    0    0    0    0    0    0 -670    0]\n",
      " [   0    0    0  637  147    1    0    0    0    0 -423    0]\n",
      " [   0    0    0    0    0    0  637  147    0    0   -1    0]\n",
      " [ 888  628    1    0    0    0    0    0    0    0    0 -667]\n",
      " [   0    0    0  888  628    1    0    0    0    0    0 -916]\n",
      " [   0    0    0    0    0    0  888  628    0    0    0   -1]]\n",
      "[ 0  0 -1  0  0 -1  0  0 -1  0  0 -1]\n"
     ]
    },
    {
     "data": {
      "text/plain": [
       "array([[ 4.66916467e-01, -4.41243184e-01,  2.85869131e+02],\n",
       "       [ 1.71383682e-01,  4.38922004e-01,  1.53615730e+02],\n",
       "       [-3.27931175e-04, -1.17880810e-04,  1.00000000e+00]])"
      ]
     },
     "execution_count": 212,
     "metadata": {},
     "output_type": "execute_result"
    }
   ],
   "source": [
    "T = get_transition_matrix(projection_matches)\n",
    "T"
   ]
  },
  {
   "cell_type": "code",
   "execution_count": 213,
   "metadata": {},
   "outputs": [
    {
     "name": "stdout",
     "output_type": "stream",
     "text": [
      "[699. 632.   1.] [699 632   1]\n",
      "[699 632   1] [699 632   1]\n",
      "[551. 485.   1.] [551 485   1]\n",
      "[551 485   1] [551 485   1]\n",
      "[670. 423.   1.] [670 423   1]\n",
      "[670 423   1] [670 423   1]\n",
      "[667. 916.   1.] [667 916   1]\n",
      "[667 916   1] [667 916   1]\n",
      "[145.11628505 764.23449395   1.        ] [157 756   1]\n",
      "[145 764   1] [157 756   1]\n",
      "[335.17332179 458.6348535    1.        ] [339 460   1]\n",
      "[335 459   1] [339 460   1]\n",
      "[291.45591418 962.80241993   1.        ] [296 952   1]\n",
      "[291 963   1] [296 952   1]\n",
      "[612.76837825 976.23366904   1.        ] [612 975   1]\n",
      "[613 976   1] [612 975   1]\n",
      "[215.24785725 860.54083765   1.        ] [223 851   1]\n",
      "[215 861   1] [223 851   1]\n",
      "[511.98939237 503.02920431   1.        ] [512 503   1]\n",
      "[512 503   1] [512 503   1]\n"
     ]
    },
    {
     "data": {
      "text/plain": [
       "False"
      ]
     },
     "execution_count": 213,
     "metadata": {},
     "output_type": "execute_result"
    }
   ],
   "source": [
    "test_transition_matrix(T, projection_matches+projection_matches_test)"
   ]
  },
  {
   "cell_type": "code",
   "execution_count": 214,
   "metadata": {},
   "outputs": [
    {
     "name": "stdout",
     "output_type": "stream",
     "text": [
      "[744. 477.   1.] [744 477   1]\n",
      "[744 477   1] [744 477   1]\n",
      "[894. 260.   1.] [894 260   1]\n",
      "[894 260   1] [894 260   1]\n",
      "[836. 259.   1.] [836 259   1]\n",
      "[836 259   1] [836 259   1]\n",
      "[880. 458.   1.] [880 458   1]\n",
      "[880 458   1] [880 458   1]\n",
      "[395. 338.   1.] [395 338   1]\n",
      "[395 338   1] [395 338   1]\n",
      "[939. 277.   1.] [939 277   1]\n",
      "[939 277   1] [939 277   1]\n",
      "[ 82. 593.   1.] [ 82 593   1]\n",
      "[ 82 593   1] [ 82 593   1]\n",
      "[372. 408.   1.] [372 408   1]\n",
      "[372 408   1] [372 408   1]\n",
      "[950. 227.   1.] [950 227   1]\n",
      "[950 227   1] [950 227   1]\n",
      "[216. 648.   1.] [216 648   1]\n",
      "[216 648   1] [216 648   1]\n"
     ]
    },
    {
     "data": {
      "text/plain": [
       "True"
      ]
     },
     "execution_count": 214,
     "metadata": {},
     "output_type": "execute_result"
    }
   ],
   "source": [
    "test_transition_matrix(t, affine_matches_test + affine_matches)"
   ]
  },
  {
   "cell_type": "code",
   "execution_count": 215,
   "metadata": {},
   "outputs": [
    {
     "data": {
      "text/plain": [
       "True"
      ]
     },
     "execution_count": 215,
     "metadata": {},
     "output_type": "execute_result"
    }
   ],
   "source": [
    "(np.array([400., 350., 1.]) == np.array([400, 350, 1])).all()"
   ]
  },
  {
   "cell_type": "code",
   "execution_count": null,
   "metadata": {},
   "outputs": [],
   "source": []
  },
  {
   "cell_type": "code",
   "execution_count": 216,
   "metadata": {},
   "outputs": [
    {
     "data": {
      "text/plain": [
       "[[(898, 554), (744, 477)],\n",
       " [(614, 120), (894, 260)],\n",
       " [(554, 118), (836, 259)],\n",
       " [(996, 516), (880, 458)],\n",
       " [(271, 276), (395, 338)],\n",
       " [(693, 154), (939, 277)],\n",
       " [(468, 786), (82, 593)]]"
      ]
     },
     "execution_count": 216,
     "metadata": {},
     "output_type": "execute_result"
    }
   ],
   "source": [
    "affine_matches_test"
   ]
  },
  {
   "cell_type": "code",
   "execution_count": 217,
   "metadata": {},
   "outputs": [],
   "source": [
    "simple_img = cv2.imread('part2-images/Simple.jpg')"
   ]
  },
  {
   "cell_type": "code",
   "execution_count": null,
   "metadata": {},
   "outputs": [],
   "source": []
  },
  {
   "cell_type": "code",
   "execution_count": 218,
   "metadata": {},
   "outputs": [],
   "source": [
    "def Apply_Transformation_Two(img, transform_array):\n",
    "\n",
    "    # Initialize new image\n",
    "    new_img = np.zeros(shape=img.shape)\n",
    "\n",
    "    # Loop through coordinates and\n",
    "    # apply inverse transformation\n",
    "    for r in range(img.shape[0]):\n",
    "        for c in range(img.shape[1]):\n",
    "            current_coor = np.array([[c, r, 1]])\n",
    "            new_coor = np.matmul(current_coor, transform_array)\n",
    "            new_x = new_coor[0] / new_coor[2]\n",
    "            new_y = new_coor[1] / new_coor[2]\n",
    "            # Update new image if old coordinate\n",
    "            # is within the image coordinate bounds\n",
    "            if new_y < img.shape[0] and \\\n",
    "                new_x < img.shape[1] and \\\n",
    "                new_y > 0 and \\\n",
    "                new_x > 0:\n",
    "\n",
    "                    new_img[r, c] = img[int(new_y), int(new_x)]\n",
    "\n",
    "    return new_img"
   ]
  },
  {
   "cell_type": "code",
   "execution_count": 219,
   "metadata": {},
   "outputs": [
    {
     "ename": "TypeError",
     "evalue": "'int' object is not subscriptable",
     "output_type": "error",
     "traceback": [
      "\u001b[1;31m---------------------------------------------------------------------------\u001b[0m",
      "\u001b[1;31mTypeError\u001b[0m                                 Traceback (most recent call last)",
      "\u001b[1;32mc:\\Users\\Olev\\repos\\samize-brycornw-lufranz-a2\\part2_simple_solve.ipynb Cell 16'\u001b[0m in \u001b[0;36m<cell line: 1>\u001b[1;34m()\u001b[0m\n\u001b[0;32m      <a href='vscode-notebook-cell:/c%3A/Users/Olev/repos/samize-brycornw-lufranz-a2/part2_simple_solve.ipynb#ch0000004?line=0'>1</a>\u001b[0m translation_input \u001b[39m=\u001b[39m np\u001b[39m.\u001b[39marray([\n\u001b[1;32m----> <a href='vscode-notebook-cell:/c%3A/Users/Olev/repos/samize-brycornw-lufranz-a2/part2_simple_solve.ipynb#ch0000004?line=1'>2</a>\u001b[0m     [translation_matches[\u001b[39m0\u001b[39;49m][\u001b[39m0\u001b[39;49m][\u001b[39m0\u001b[39;49m], \u001b[39m0\u001b[39m],\n\u001b[0;32m      <a href='vscode-notebook-cell:/c%3A/Users/Olev/repos/samize-brycornw-lufranz-a2/part2_simple_solve.ipynb#ch0000004?line=2'>3</a>\u001b[0m     [\u001b[39m0\u001b[39m, translation_matches[\u001b[39m0\u001b[39m][\u001b[39m0\u001b[39m][\u001b[39m1\u001b[39m]]\n\u001b[0;32m      <a href='vscode-notebook-cell:/c%3A/Users/Olev/repos/samize-brycornw-lufranz-a2/part2_simple_solve.ipynb#ch0000004?line=3'>4</a>\u001b[0m ])\n\u001b[0;32m      <a href='vscode-notebook-cell:/c%3A/Users/Olev/repos/samize-brycornw-lufranz-a2/part2_simple_solve.ipynb#ch0000004?line=5'>6</a>\u001b[0m \u001b[39mprint\u001b[39m(\u001b[39m'\u001b[39m\u001b[39mLinear Equation Array:\u001b[39m\u001b[39m'\u001b[39m)\n\u001b[0;32m      <a href='vscode-notebook-cell:/c%3A/Users/Olev/repos/samize-brycornw-lufranz-a2/part2_simple_solve.ipynb#ch0000004?line=6'>7</a>\u001b[0m \u001b[39mprint\u001b[39m(translation_input)\n",
      "\u001b[1;31mTypeError\u001b[0m: 'int' object is not subscriptable"
     ]
    }
   ],
   "source": [
    "translation_input = np.array([\n",
    "    [translation_matches[0][0][0], 0],\n",
    "    [0, translation_matches[0][0][1]]\n",
    "])\n",
    "\n",
    "print('Linear Equation Array:')\n",
    "print(translation_input)\n",
    "print()\n",
    "\n",
    "translation_output = np.array([\n",
    "    translation_matches[0][1][0], translation_matches[0][1][1]\n",
    "])\n",
    "\n",
    "print('Equation Output:')\n",
    "print(translation_output)\n",
    "print()\n",
    "\n",
    "translation_solved = np.linalg.solve(translation_input, translation_output)\n",
    "\n",
    "print('Equation Solved:')\n",
    "print(translation_solved)\n",
    "print()\n",
    "\n",
    "translation_transform = np.array([\n",
    "    [translation_solved[0], 0, 0],\n",
    "    [0, translation_solved[1], 0],\n",
    "    [0, 0, 1]\n",
    "])\n",
    "\n",
    "print('Transfrom Matrix:')\n",
    "print(translation_transform)\n",
    "print()\n",
    "\n",
    "translation_original = np.array([\n",
    "    translation_matches_test[0][0][0], translation_matches_test[0][0][1], 1\n",
    "])\n",
    "\n",
    "translation_new = np.matmul(translation_original, translation_transform)\n",
    "\n",
    "print(f'Test: ({translation_new[0] / translation_new[2]}, {translation_new[1] / translation_new[2]}) = {translation_matches_test[0][1]}')"
   ]
  },
  {
   "cell_type": "code",
   "execution_count": null,
   "metadata": {},
   "outputs": [
    {
     "name": "stdout",
     "output_type": "stream",
     "text": [
      "Linear Equation Array:\n",
      "[[487 300   0   0]\n",
      " [  0   0 487 300]\n",
      " [500 319   0   0]\n",
      " [  0   0 500 319]]\n",
      "\n",
      "Equation Output:\n",
      "[555  25 575  35]\n",
      "\n",
      "Equation Solved:\n",
      "[ 0.8490566   0.47169811 -0.47169811  0.8490566 ]\n",
      "\n",
      "Transfrom Matrix:\n",
      "[[ 0.8490566   0.47169811  0.        ]\n",
      " [-0.47169811  0.8490566   0.        ]\n",
      " [ 0.          0.          1.        ]]\n",
      "\n",
      "Test: (226.98113207547345, 459.43396226414825) = (510, 50)\n"
     ]
    }
   ],
   "source": [
    "euclidean_input = np.array([\n",
    "    [euclidean_matches[0][0][0], euclidean_matches[0][0][1], 0, 0],\n",
    "    [0, 0, euclidean_matches[0][0][0], euclidean_matches[0][0][1]],\n",
    "    [euclidean_matches[1][0][0], euclidean_matches[1][0][1], 0, 0],\n",
    "    [0, 0, euclidean_matches[1][0][0], euclidean_matches[1][0][1]],\n",
    "])\n",
    "\n",
    "print('Linear Equation Array:')\n",
    "print(euclidean_input)\n",
    "print()\n",
    "\n",
    "euclidean_output = np.array([\n",
    "    euclidean_matches[0][1][0], euclidean_matches[0][1][1], euclidean_matches[1][1][0], euclidean_matches[1][1][1]\n",
    "])\n",
    "\n",
    "print('Equation Output:')\n",
    "print(euclidean_output)\n",
    "print()\n",
    "\n",
    "euclidean_solved = np.linalg.solve(euclidean_input, euclidean_output)\n",
    "\n",
    "print('Equation Solved:')\n",
    "print(euclidean_solved)\n",
    "print()\n",
    "\n",
    "euclidean_transform = np.array([\n",
    "    [euclidean_solved[0], euclidean_solved[1], 0],\n",
    "    [euclidean_solved[2], euclidean_solved[3], 0],\n",
    "    [0, 0, 1]\n",
    "])\n",
    "\n",
    "print('Transfrom Matrix:')\n",
    "print(euclidean_transform)\n",
    "print()\n",
    "\n",
    "euclidean_original = np.array([\n",
    "    [euclidean_matches_test[0][0][0], euclidean_matches_test[0][0][1], 1],\n",
    "])\n",
    "\n",
    "euclidean_new = np.matmul(euclidean_original[0], euclidean_transform)\n",
    "\n",
    "print(f'Test: ({euclidean_new[0] / euclidean_new[2]}, {euclidean_new[1] / euclidean_new[2]}) = {euclidean_matches_test[0][1]}')"
   ]
  },
  {
   "cell_type": "code",
   "execution_count": null,
   "metadata": {},
   "outputs": [
    {
     "name": "stdout",
     "output_type": "stream",
     "text": [
      "Linear Equation Array:\n",
      "[[300 300   1   0   0   0]\n",
      " [  0   0   0 300 300   1]\n",
      " [401 300   1   0   0   0]\n",
      " [  0   0   0 401 300   1]\n",
      " [300 302   1   0   0   0]\n",
      " [  0   0   0 300 302   1]]\n",
      "\n",
      "Equation Output:\n",
      "[400 350 501 350 398 351]\n",
      "\n",
      "Equation Solved:\n",
      "[ 1.00000000e+00 -1.00000000e+00  4.00000000e+02  1.41754162e-16\n",
      "  5.00000000e-01  2.00000000e+02]\n",
      "\n",
      "Transfrom Matrix:\n",
      "[[ 1.00000000e+00 -1.00000000e+00  0.00000000e+00]\n",
      " [ 4.00000000e+02  1.41754162e-16  0.00000000e+00]\n",
      " [ 0.00000000e+00  0.00000000e+00  1.00000000e+00]]\n",
      "\n",
      "Test: (121300.00000000065, -500.0000000000037) = (598, 351)\n"
     ]
    }
   ],
   "source": [
    "affine_input = np.array([\n",
    "    [affine_matches[0][0][0], affine_matches[0][0][1], 1, 0, 0, 0],\n",
    "    [0, 0, 0, affine_matches[0][0][0], affine_matches[0][0][1], 1],\n",
    "    [affine_matches[1][0][0], affine_matches[1][0][1], 1, 0, 0, 0],\n",
    "    [0, 0, 0, affine_matches[1][0][0], affine_matches[1][0][1], 1],\n",
    "    [affine_matches[2][0][0], affine_matches[2][0][1], 1, 0, 0, 0],\n",
    "    [0, 0, 0, affine_matches[2][0][0], affine_matches[2][0][1], 1],\n",
    "])\n",
    "\n",
    "print('Linear Equation Array:')\n",
    "print(affine_input)\n",
    "print()\n",
    "\n",
    "affine_output = np.array([\n",
    "    affine_matches[0][1][0], affine_matches[0][1][1], affine_matches[1][1][0], affine_matches[1][1][1], affine_matches[2][1][0], affine_matches[2][1][1]\n",
    "])\n",
    "\n",
    "print('Equation Output:')\n",
    "print(affine_output)\n",
    "print()\n",
    "\n",
    "affine_solved = np.linalg.solve(affine_input, affine_output)\n",
    "\n",
    "print('Equation Solved:')\n",
    "print(affine_solved)\n",
    "print()\n",
    "\n",
    "affine_transform = np.array([\n",
    "    [affine_solved[0], affine_solved[1], 0],\n",
    "    [affine_solved[2], affine_solved[3], 0],\n",
    "    [0, 0, 1]\n",
    "])\n",
    "\n",
    "print('Transfrom Matrix:')\n",
    "print(affine_transform)\n",
    "print()\n",
    "\n",
    "affine_original = np.array([\n",
    "    [affine_matches_test[0][0][0], affine_matches_test[0][0][1], 1],\n",
    "])\n",
    "\n",
    "affine_new = np.matmul(affine_original[0], affine_transform)\n",
    "\n",
    "print(f'Test: ({affine_new[0] / affine_new[2]}, {affine_new[1] / affine_new[2]}) = {affine_matches_test[0][1]}')"
   ]
  },
  {
   "cell_type": "code",
   "execution_count": null,
   "metadata": {},
   "outputs": [],
   "source": []
  }
 ],
 "metadata": {
  "interpreter": {
   "hash": "80f562c4332a1b652b43abc3f6dc8822e0539e2ff14e2e1d70aad5b28f23c7c5"
  },
  "kernelspec": {
   "display_name": "Python 3.7.6 ('base')",
   "language": "python",
   "name": "python3"
  },
  "language_info": {
   "codemirror_mode": {
    "name": "ipython",
    "version": 3
   },
   "file_extension": ".py",
   "mimetype": "text/x-python",
   "name": "python",
   "nbconvert_exporter": "python",
   "pygments_lexer": "ipython3",
   "version": "3.10.3"
  },
  "orig_nbformat": 4
 },
 "nbformat": 4,
 "nbformat_minor": 2
}
